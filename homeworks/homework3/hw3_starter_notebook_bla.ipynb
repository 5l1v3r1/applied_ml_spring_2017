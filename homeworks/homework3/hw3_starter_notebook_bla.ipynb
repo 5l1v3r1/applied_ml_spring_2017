{
 "cells": [
  {
   "cell_type": "markdown",
   "metadata": {},
   "source": [
    "# Submission Information:\n",
    "\n",
    "### Team Member 1:\n",
    "* UNI: ia2221\n",
    "* Name: Ignacio Aranguren\n",
    "* Team Name: nachoaz"
   ]
  },
  {
   "cell_type": "markdown",
   "metadata": {},
   "source": [
    "# Step0 - Import Libraries, Load Data [0 points]\n",
    "\n",
    "This is the basic step where you can load the data and create train and test sets for internal validation as per your convinience."
   ]
  },
  {
   "cell_type": "code",
   "execution_count": 1,
   "metadata": {
    "collapsed": false
   },
   "outputs": [],
   "source": [
    "%matplotlib notebook\n",
    "%matplotlib inline\n",
    "\n",
    "from __future__ import division\n",
    "from itertools import chain\n",
    "import numpy as np\n",
    "import pandas as pd\n",
    "import matplotlib.pyplot as plt\n",
    "import fancyimpute\n",
    "import mglearn\n",
    "from sklearn.pipeline import make_pipeline\n",
    "from sklearn.model_selection import (train_test_split, \n",
    "     GridSearchCV, cross_val_score, cross_val_predict, StratifiedShuffleSplit)\n",
    "from sklearn.preprocessing import OneHotEncoder\n",
    "from sklearn.preprocessing import RobustScaler, MinMaxScaler\n",
    "from sklearn.preprocessing import Imputer\n",
    "from imblearn.pipeline import Pipeline as imb_Pipeline\n",
    "from imblearn.under_sampling import RandomUnderSampler\n",
    "from imblearn.over_sampling import RandomOverSampler\n",
    "from sklearn.svm import SVC\n",
    "from sklearn.preprocessing import FunctionTransformer\n",
    "from sklearn.ensemble import VotingClassifier, GradientBoostingClassifier, RandomForestClassifier\n",
    "from sklearn.calibration import CalibratedClassifierCV, calibration_curve\n",
    "from sklearn.externals import joblib\n",
    "from sklearn import metrics\n",
    "from sklearn.linear_model import LogisticRegression\n",
    "\n",
    "orig_data = pd.read_csv('final_data//data.csv')"
   ]
  },
  {
   "cell_type": "markdown",
   "metadata": {},
   "source": [
    "Let's see what the data looks like."
   ]
  },
  {
   "cell_type": "code",
   "execution_count": 2,
   "metadata": {
    "collapsed": false
   },
   "outputs": [],
   "source": [
    "# orig_data.iloc[0:10,:]"
   ]
  },
  {
   "cell_type": "markdown",
   "metadata": {},
   "source": [
    "What do these different data values represent? Which ones should we not use? (Remember: we're trying to predict whether or not a person will buy a certain one of the bank's products, but we don't want to even bother the ones that are highly unlikely to buy. So we have to use features that are available before making the promotional call to that person.)\n",
    "\n",
    "Let's also take this as an opportunity to see what kinds of features we're working with and the possible values they can take on are."
   ]
  },
  {
   "cell_type": "code",
   "execution_count": 3,
   "metadata": {
    "collapsed": false
   },
   "outputs": [],
   "source": [
    "# !cat data/data_dictionary.txt"
   ]
  },
  {
   "cell_type": "markdown",
   "metadata": {},
   "source": [
    "So we see that we have 20 features, 10 of which are numeric and 10 of which are categorical. To avoid using information that wouldn't be available before the first call, we're instructed not to use the feature 'duration'; everything else we can use.\n",
    "\n",
    "Let's get rid of that feature."
   ]
  },
  {
   "cell_type": "code",
   "execution_count": 4,
   "metadata": {
    "collapsed": false
   },
   "outputs": [],
   "source": [
    "data = orig_data.drop('duration', axis=1)"
   ]
  },
  {
   "cell_type": "markdown",
   "metadata": {},
   "source": [
    "Let's now split our data into a train set and a test set."
   ]
  },
  {
   "cell_type": "code",
   "execution_count": 5,
   "metadata": {
    "collapsed": false
   },
   "outputs": [],
   "source": [
    "X_train, X_test, y_train, y_test = train_test_split(\n",
    "     data.drop('subscribed', axis=1).values, \n",
    "     data['subscribed'].values,\n",
    "     stratify=data['subscribed'].values,\n",
    "     random_state=0)"
   ]
  },
  {
   "cell_type": "markdown",
   "metadata": {},
   "source": [
    "\n",
    "\n",
    "\n",
    "\n",
    "# Step1 - Exploration and Preparation [10 points]\n",
    "\n",
    "In this step, we expect you to look into the data and try to understand it before modeling. This understanding may lead to some basic data preparation steps which are common across the two model sets required."
   ]
  },
  {
   "cell_type": "code",
   "execution_count": 6,
   "metadata": {
    "collapsed": false
   },
   "outputs": [
    {
     "data": {
      "text/html": [
       "<div>\n",
       "<table border=\"1\" class=\"dataframe\">\n",
       "  <thead>\n",
       "    <tr style=\"text-align: right;\">\n",
       "      <th></th>\n",
       "      <th>age</th>\n",
       "      <th>job</th>\n",
       "      <th>marital_status</th>\n",
       "      <th>education</th>\n",
       "      <th>credit_default</th>\n",
       "      <th>housing</th>\n",
       "      <th>loan</th>\n",
       "      <th>contact</th>\n",
       "      <th>month</th>\n",
       "      <th>day_of_week</th>\n",
       "      <th>campaign</th>\n",
       "      <th>prev_days</th>\n",
       "      <th>prev_contacts</th>\n",
       "      <th>prev_outcomes</th>\n",
       "      <th>emp_var_rate</th>\n",
       "      <th>cons_price_idx</th>\n",
       "      <th>cons_conf_idx</th>\n",
       "      <th>euribor3m</th>\n",
       "      <th>nr_employed</th>\n",
       "      <th>subscribed</th>\n",
       "    </tr>\n",
       "  </thead>\n",
       "  <tbody>\n",
       "    <tr>\n",
       "      <th>0</th>\n",
       "      <td>52</td>\n",
       "      <td>blue-collar</td>\n",
       "      <td>married</td>\n",
       "      <td>basic.4y</td>\n",
       "      <td>unknown</td>\n",
       "      <td>no</td>\n",
       "      <td>no</td>\n",
       "      <td>telephone</td>\n",
       "      <td>may</td>\n",
       "      <td>thu</td>\n",
       "      <td>15</td>\n",
       "      <td>999</td>\n",
       "      <td>0</td>\n",
       "      <td>nonexistent</td>\n",
       "      <td>1.17826</td>\n",
       "      <td>94.2367</td>\n",
       "      <td>-37.0486</td>\n",
       "      <td>4.74608</td>\n",
       "      <td>5192</td>\n",
       "      <td>no</td>\n",
       "    </tr>\n",
       "    <tr>\n",
       "      <th>1</th>\n",
       "      <td>41</td>\n",
       "      <td>blue-collar</td>\n",
       "      <td>single</td>\n",
       "      <td>basic.6y</td>\n",
       "      <td>unknown</td>\n",
       "      <td>yes</td>\n",
       "      <td>no</td>\n",
       "      <td>cellular</td>\n",
       "      <td>apr</td>\n",
       "      <td>fri</td>\n",
       "      <td>4</td>\n",
       "      <td>999</td>\n",
       "      <td>1</td>\n",
       "      <td>failure</td>\n",
       "      <td>-2.00094</td>\n",
       "      <td>94.1037</td>\n",
       "      <td>-46.0965</td>\n",
       "      <td>1.42721</td>\n",
       "      <td>5096</td>\n",
       "      <td>no</td>\n",
       "    </tr>\n",
       "    <tr>\n",
       "      <th>2</th>\n",
       "      <td>36</td>\n",
       "      <td>entrepreneur</td>\n",
       "      <td>single</td>\n",
       "      <td>university.degree</td>\n",
       "      <td>no</td>\n",
       "      <td>yes</td>\n",
       "      <td>no</td>\n",
       "      <td>telephone</td>\n",
       "      <td>jun</td>\n",
       "      <td>fri</td>\n",
       "      <td>1</td>\n",
       "      <td>999</td>\n",
       "      <td>0</td>\n",
       "      <td>nonexistent</td>\n",
       "      <td>1.33155</td>\n",
       "      <td>94.79</td>\n",
       "      <td>-41.7284</td>\n",
       "      <td>4.99052</td>\n",
       "      <td>5227</td>\n",
       "      <td>no</td>\n",
       "    </tr>\n",
       "    <tr>\n",
       "      <th>3</th>\n",
       "      <td>46</td>\n",
       "      <td>blue-collar</td>\n",
       "      <td>divorced</td>\n",
       "      <td>unknown</td>\n",
       "      <td>no</td>\n",
       "      <td>no</td>\n",
       "      <td>no</td>\n",
       "      <td>cellular</td>\n",
       "      <td>jul</td>\n",
       "      <td>tue</td>\n",
       "      <td>8</td>\n",
       "      <td>999</td>\n",
       "      <td>0</td>\n",
       "      <td>nonexistent</td>\n",
       "      <td>1.33587</td>\n",
       "      <td>94.5252</td>\n",
       "      <td>-42.9314</td>\n",
       "      <td>5.07024</td>\n",
       "      <td>5233</td>\n",
       "      <td>no</td>\n",
       "    </tr>\n",
       "    <tr>\n",
       "      <th>4</th>\n",
       "      <td>51</td>\n",
       "      <td>management</td>\n",
       "      <td>married</td>\n",
       "      <td>university.degree</td>\n",
       "      <td>no</td>\n",
       "      <td>yes</td>\n",
       "      <td>no</td>\n",
       "      <td>telephone</td>\n",
       "      <td>jun</td>\n",
       "      <td>fri</td>\n",
       "      <td>3</td>\n",
       "      <td>999</td>\n",
       "      <td>0</td>\n",
       "      <td>nonexistent</td>\n",
       "      <td>1.46837</td>\n",
       "      <td>94.1738</td>\n",
       "      <td>-42.6451</td>\n",
       "      <td>5.11396</td>\n",
       "      <td>5228</td>\n",
       "      <td>no</td>\n",
       "    </tr>\n",
       "  </tbody>\n",
       "</table>\n",
       "</div>"
      ],
      "text/plain": [
       "  age           job marital_status          education credit_default housing  \\\n",
       "0  52   blue-collar        married           basic.4y        unknown      no   \n",
       "1  41   blue-collar         single           basic.6y        unknown     yes   \n",
       "2  36  entrepreneur         single  university.degree             no     yes   \n",
       "3  46   blue-collar       divorced            unknown             no      no   \n",
       "4  51    management        married  university.degree             no     yes   \n",
       "\n",
       "  loan    contact month day_of_week campaign prev_days prev_contacts  \\\n",
       "0   no  telephone   may         thu       15       999             0   \n",
       "1   no   cellular   apr         fri        4       999             1   \n",
       "2   no  telephone   jun         fri        1       999             0   \n",
       "3   no   cellular   jul         tue        8       999             0   \n",
       "4   no  telephone   jun         fri        3       999             0   \n",
       "\n",
       "  prev_outcomes emp_var_rate cons_price_idx cons_conf_idx euribor3m  \\\n",
       "0   nonexistent      1.17826        94.2367      -37.0486   4.74608   \n",
       "1       failure     -2.00094        94.1037      -46.0965   1.42721   \n",
       "2   nonexistent      1.33155          94.79      -41.7284   4.99052   \n",
       "3   nonexistent      1.33587        94.5252      -42.9314   5.07024   \n",
       "4   nonexistent      1.46837        94.1738      -42.6451   5.11396   \n",
       "\n",
       "  nr_employed subscribed  \n",
       "0        5192         no  \n",
       "1        5096         no  \n",
       "2        5227         no  \n",
       "3        5233         no  \n",
       "4        5228         no  "
      ]
     },
     "execution_count": 6,
     "metadata": {},
     "output_type": "execute_result"
    }
   ],
   "source": [
    "train_df = pd.DataFrame(X_train, columns=data.columns[:-1])\n",
    "train_df['subscribed'] = y_train\n",
    "\n",
    "train_df.head()"
   ]
  },
  {
   "cell_type": "markdown",
   "metadata": {},
   "source": [
    "We've already seen what kind of variables we're working with. Let's now see how they're distributed and think about how we might encode or transform them.\n",
    "\n",
    "More specifically, let's see what the categories are for categorical variables, and let's look for differences in spelling and capitalization that might require preprocessing."
   ]
  },
  {
   "cell_type": "markdown",
   "metadata": {},
   "source": [
    "First, I should convert the data types of the noncategorical features to numeric. That way, I'll then more easily be able to see the different values that the categorical features take on, and perhaps do some plotting (barcharts for categorical features, a scatterplot of the numerical features)."
   ]
  },
  {
   "cell_type": "code",
   "execution_count": 7,
   "metadata": {
    "collapsed": false
   },
   "outputs": [
    {
     "data": {
      "text/plain": [
       "age               float64\n",
       "job                object\n",
       "marital_status     object\n",
       "education          object\n",
       "credit_default     object\n",
       "housing            object\n",
       "loan               object\n",
       "contact            object\n",
       "month              object\n",
       "day_of_week        object\n",
       "campaign          float64\n",
       "prev_days           int64\n",
       "prev_contacts       int64\n",
       "prev_outcomes      object\n",
       "emp_var_rate      float64\n",
       "cons_price_idx    float64\n",
       "cons_conf_idx     float64\n",
       "euribor3m         float64\n",
       "nr_employed       float64\n",
       "subscribed         object\n",
       "dtype: object"
      ]
     },
     "execution_count": 7,
     "metadata": {},
     "output_type": "execute_result"
    }
   ],
   "source": [
    "for col in train_df.columns:\n",
    "    if isinstance(train_df[col][0], int):\n",
    "        train_df[col] = train_df[col].apply(pd.to_numeric, errors='coerce')\n",
    "    elif isinstance(train_df[col][0], float):\n",
    "        train_df[col] = train_df[col].apply(pd.to_numeric, errors='coerce')\n",
    "        \n",
    "train_df.dtypes"
   ]
  },
  {
   "cell_type": "markdown",
   "metadata": {},
   "source": [
    "It stands out to me that age got converted to a float, although I'd think that the measurements on that feature for all examples would be an integer. I'll investigate this further by looking at remainders."
   ]
  },
  {
   "cell_type": "code",
   "execution_count": 8,
   "metadata": {
    "collapsed": false
   },
   "outputs": [
    {
     "data": {
      "text/plain": [
       "True"
      ]
     },
     "execution_count": 8,
     "metadata": {},
     "output_type": "execute_result"
    }
   ],
   "source": [
    "from math import floor\n",
    "all([num == floor(num) for num in train_df['age']])"
   ]
  },
  {
   "cell_type": "markdown",
   "metadata": {},
   "source": [
    "So it looks like they're all integers. I'll move forward for now. Back to checking what categories each categorical variable takes on."
   ]
  },
  {
   "cell_type": "code",
   "execution_count": 9,
   "metadata": {
    "collapsed": false
   },
   "outputs": [
    {
     "name": "stdout",
     "output_type": "stream",
     "text": [
      "\n",
      "job\n",
      "admin.           6297\n",
      "blue-collar      5587\n",
      "technician       4059\n",
      "services         2362\n",
      "management       1751\n",
      "retired          1026\n",
      "entrepreneur      887\n",
      "self-employed     817\n",
      "housemaid         631\n",
      "unemployed        578\n",
      "student           531\n",
      "unknown           186\n",
      "Name: job, dtype: int64\n",
      "\n",
      "marital_status\n",
      "married     14961\n",
      "single       6958\n",
      "divorced     2749\n",
      "unknown        44\n",
      "Name: marital_status, dtype: int64\n",
      "\n",
      "education\n",
      "university.degree      7293\n",
      "high.school            5674\n",
      "basic.9y               3684\n",
      "professional.course    3150\n",
      "basic.4y               2457\n",
      "basic.6y               1398\n",
      "unknown                1045\n",
      "illiterate               11\n",
      "Name: education, dtype: int64\n",
      "\n",
      "credit_default\n",
      "no         19570\n",
      "unknown     5140\n",
      "yes            2\n",
      "Name: credit_default, dtype: int64\n",
      "\n",
      "housing\n",
      "yes        12838\n",
      "no         11284\n",
      "unknown      590\n",
      "Name: housing, dtype: int64\n",
      "\n",
      "loan\n",
      "no         20483\n",
      "yes         3639\n",
      "unknown      590\n",
      "Name: loan, dtype: int64\n",
      "\n",
      "contact\n",
      "cellular     15703\n",
      "telephone     9009\n",
      "Name: contact, dtype: int64\n",
      "\n",
      "month\n",
      "may    8220\n",
      "jul    4309\n",
      "aug    3670\n",
      "jun    3235\n",
      "nov    2488\n",
      "apr    1584\n",
      "oct     407\n",
      "sep     348\n",
      "mar     329\n",
      "dec     122\n",
      "Name: month, dtype: int64\n",
      "\n",
      "day_of_week\n",
      "thu    5210\n",
      "mon    5020\n",
      "wed    4923\n",
      "tue    4836\n",
      "fri    4723\n",
      "Name: day_of_week, dtype: int64\n",
      "\n",
      "prev_outcomes\n",
      "nonexistent    21330\n",
      "failure         2533\n",
      "success          849\n",
      "Name: prev_outcomes, dtype: int64\n",
      "\n",
      "subscribed\n",
      "no     21928\n",
      "yes     2784\n",
      "Name: subscribed, dtype: int64\n"
     ]
    }
   ],
   "source": [
    "for col in train_df.select_dtypes(exclude=['int64', 'float64']).columns:\n",
    "     print('\\n{}\\n{}'.format(col, train_df[col].value_counts()))"
   ]
  },
  {
   "cell_type": "markdown",
   "metadata": {},
   "source": [
    "The above summary is a good way to get a detailed view of the breakdown of categories by variable. For a quicker and more qualitative view, it's easier to draw barcharts."
   ]
  },
  {
   "cell_type": "code",
   "execution_count": 10,
   "metadata": {
    "collapsed": false
   },
   "outputs": [
    {
     "data": {
      "image/png": "[encoded data removed]",
      "text/plain": [
       "<matplotlib.figure.Figure at 0x7ff25bc57400>"
      ]
     },
     "metadata": {},
     "output_type": "display_data"
    }
   ],
   "source": [
    "fig, axarr = plt.subplots(2, 5)\n",
    "cat_cols = train_df.select_dtypes(exclude=['int64', 'float64']).columns\n",
    "i = 0\n",
    "\n",
    "for x in np.arange(2):\n",
    "    for y in np.arange(5):\n",
    "        x_pos = np.arange(len(train_df[cat_cols[i]].value_counts().keys()))\n",
    "        vals = train_df[cat_cols[i]].value_counts().values\n",
    "        axarr[x,y].bar(x_pos, vals)\n",
    "        axarr[x,y].set_xticks(x_pos)\n",
    "        axarr[x,y].set_xticklabels(train_df[cat_cols[i]].value_counts().keys(), rotation=90, size='small')\n",
    "        axarr[x,y].set_title(cat_cols[i])\n",
    "        i+=1\n",
    "\n",
    "fig.subplots_adjust(wspace=0.95, hspace=0.5)\n",
    "fig.set_figheight(10)\n",
    "fig.set_figwidth(15)\n"
   ]
  },
  {
   "cell_type": "markdown",
   "metadata": {},
   "source": [
    "Now I build a scatterplot matrix to look at the continuous variables."
   ]
  },
  {
   "cell_type": "code",
   "execution_count": 11,
   "metadata": {
    "collapsed": false
   },
   "outputs": [],
   "source": [
    "# # the rotating of the axes here was done by following the example in:\n",
    "# # http://stackoverflow.com/questions/26975089/making-the-labels-of-the-scatterplot-vertical-and-horizontal-in-pandas\n",
    "\n",
    "# max_prev_days = sorted(set(train_df['prev_days'].values), reverse=True)[1]\n",
    "\n",
    "# axs = pd.scatter_matrix(train_df.select_dtypes(exclude=['object']), c=[1 if y == 'yes' else 0 for y in y_train])\n",
    "# n = len(train_df.select_dtypes(exclude=['object']).columns)\n",
    "\n",
    "# for x in range(n):\n",
    "#     for y in range(n):\n",
    "#         # to get the axis of subplots\n",
    "#         ax = axs[x, y]\n",
    "        \n",
    "#         if x == 2:\n",
    "#             ax.set_ylim([0, max_prev_days])\n",
    "            \n",
    "#         if y == 2:\n",
    "#             ax.set_xlim([0, max_prev_days])\n",
    "            \n",
    "#         # to make x axis name vertical  \n",
    "#         ax.xaxis.label.set_rotation(90)\n",
    "#         ax.xaxis.label.set_size(6)\n",
    "#         for tick in ax.xaxis.get_major_ticks():\n",
    "#             tick.label.set_fontsize(6)\n",
    "        \n",
    "#         # to make y axis name horizontal \n",
    "#         ax.yaxis.label.set_rotation(0)\n",
    "#         ax.yaxis.label.set_size(6)\n",
    "#         for tick in ax.yaxis.get_major_ticks():\n",
    "#             tick.label.set_fontsize(6)\n",
    "        \n",
    "#         # to make sure y axis names are outside the plot area\n",
    "#         ax.yaxis.labelpad = 50"
   ]
  },
  {
   "cell_type": "markdown",
   "metadata": {},
   "source": [
    "So I see that some of my numerical variables (such as `emp_var_rate`, `euribor3m`, and `nr_employed`) seem to be very much not normally distributed. I also see that most of my variables have different ranges. This indicates that pre-processing will be required, especially for fitting linear models."
   ]
  },
  {
   "cell_type": "markdown",
   "metadata": {},
   "source": [
    "Let's see what the ranges of my categorical variables are."
   ]
  },
  {
   "cell_type": "code",
   "execution_count": 12,
   "metadata": {
    "collapsed": false
   },
   "outputs": [],
   "source": [
    "# my_boxplot = plt.boxplot(train_df.select_dtypes(exclude=['object']).values)\n",
    "# my_ticks = plt.xticks(np.arange(1, train_df.select_dtypes(exclude=['object']).values.shape[1]+1), \n",
    "#           train_df.select_dtypes(exclude=['object']).keys(), rotation=30, ha='right')"
   ]
  },
  {
   "cell_type": "markdown",
   "metadata": {},
   "source": [
    "Let's look at some of the ways we might transform this, to try to gain some intuition as to which transformation might be best."
   ]
  },
  {
   "cell_type": "code",
   "execution_count": 13,
   "metadata": {
    "collapsed": false
   },
   "outputs": [],
   "source": [
    "# my_boxplot = plt.boxplot(RobustScaler().fit_transform(train_df.select_dtypes(exclude=['object']).values))\n",
    "# my_ticks = plt.xticks(np.arange(1, train_df.select_dtypes(exclude=['object']).values.shape[1]+1), \n",
    "#           train_df.select_dtypes(exclude=['object']).keys(), rotation=30, ha='right')"
   ]
  },
  {
   "cell_type": "code",
   "execution_count": 14,
   "metadata": {
    "collapsed": false
   },
   "outputs": [],
   "source": [
    "# my_boxplot = plt.boxplot(MinMaxScaler().fit_transform(train_df.select_dtypes(exclude=['object']).values))\n",
    "# my_ticks = plt.xticks(np.arange(1, train_df.select_dtypes(exclude=['object']).values.shape[1]+1), \n",
    "#           train_df.select_dtypes(exclude=['object']).keys(), rotation=30, ha='right')"
   ]
  },
  {
   "cell_type": "markdown",
   "metadata": {},
   "source": [
    "Let's also think about what missing values we might have, and how we might impute them. We know from the data dictionary that when prev_days is 999, that means that that particular client hasn't been contacted about an offer before. This is valuable information to keep. If we were to one-hot encode our data, we'll end up with a feature that is called something like `prev_days_is_999` which will take on a value of 1 when `prev_days` is 999 (ie when the client has never before been contacted), and a value of 0 when `prev_days` is _not_ 999 (ie when the client has been contacted before); we can thereore think of `prev_days_is_999` as `never_contacted`. But one-hot encoding this particular variable will result in too many added variables; moreover, it'd be more interpretable (and probably better for modeling) to treat this as a continuous variable. Therefore, what we'll do is we'll create a `has_been_contacted_before` categorical variable and we'll leave `prev_days` as a numerical variable."
   ]
  },
  {
   "cell_type": "code",
   "execution_count": 15,
   "metadata": {
    "collapsed": false
   },
   "outputs": [
    {
     "data": {
      "text/html": [
       "<div>\n",
       "<table border=\"1\" class=\"dataframe\">\n",
       "  <thead>\n",
       "    <tr style=\"text-align: right;\">\n",
       "      <th></th>\n",
       "      <th>age</th>\n",
       "      <th>job</th>\n",
       "      <th>marital_status</th>\n",
       "      <th>education</th>\n",
       "      <th>credit_default</th>\n",
       "      <th>housing</th>\n",
       "      <th>loan</th>\n",
       "      <th>contact</th>\n",
       "      <th>month</th>\n",
       "      <th>day_of_week</th>\n",
       "      <th>...</th>\n",
       "      <th>prev_days</th>\n",
       "      <th>prev_contacts</th>\n",
       "      <th>prev_outcomes</th>\n",
       "      <th>emp_var_rate</th>\n",
       "      <th>cons_price_idx</th>\n",
       "      <th>cons_conf_idx</th>\n",
       "      <th>euribor3m</th>\n",
       "      <th>nr_employed</th>\n",
       "      <th>never_contacted</th>\n",
       "      <th>subscribed</th>\n",
       "    </tr>\n",
       "  </thead>\n",
       "  <tbody>\n",
       "    <tr>\n",
       "      <th>0</th>\n",
       "      <td>52.0</td>\n",
       "      <td>blue-collar</td>\n",
       "      <td>married</td>\n",
       "      <td>basic.4y</td>\n",
       "      <td>unknown</td>\n",
       "      <td>no</td>\n",
       "      <td>no</td>\n",
       "      <td>telephone</td>\n",
       "      <td>may</td>\n",
       "      <td>thu</td>\n",
       "      <td>...</td>\n",
       "      <td>999</td>\n",
       "      <td>0</td>\n",
       "      <td>nonexistent</td>\n",
       "      <td>1.178261</td>\n",
       "      <td>94.236694</td>\n",
       "      <td>-37.048583</td>\n",
       "      <td>4.746075</td>\n",
       "      <td>5192.0</td>\n",
       "      <td>True</td>\n",
       "      <td>no</td>\n",
       "    </tr>\n",
       "    <tr>\n",
       "      <th>1</th>\n",
       "      <td>41.0</td>\n",
       "      <td>blue-collar</td>\n",
       "      <td>single</td>\n",
       "      <td>basic.6y</td>\n",
       "      <td>unknown</td>\n",
       "      <td>yes</td>\n",
       "      <td>no</td>\n",
       "      <td>cellular</td>\n",
       "      <td>apr</td>\n",
       "      <td>fri</td>\n",
       "      <td>...</td>\n",
       "      <td>999</td>\n",
       "      <td>1</td>\n",
       "      <td>failure</td>\n",
       "      <td>-2.000945</td>\n",
       "      <td>94.103725</td>\n",
       "      <td>-46.096535</td>\n",
       "      <td>1.427209</td>\n",
       "      <td>5096.0</td>\n",
       "      <td>True</td>\n",
       "      <td>no</td>\n",
       "    </tr>\n",
       "    <tr>\n",
       "      <th>2</th>\n",
       "      <td>36.0</td>\n",
       "      <td>entrepreneur</td>\n",
       "      <td>single</td>\n",
       "      <td>university.degree</td>\n",
       "      <td>no</td>\n",
       "      <td>yes</td>\n",
       "      <td>no</td>\n",
       "      <td>telephone</td>\n",
       "      <td>jun</td>\n",
       "      <td>fri</td>\n",
       "      <td>...</td>\n",
       "      <td>999</td>\n",
       "      <td>0</td>\n",
       "      <td>nonexistent</td>\n",
       "      <td>1.331550</td>\n",
       "      <td>94.790008</td>\n",
       "      <td>-41.728380</td>\n",
       "      <td>4.990515</td>\n",
       "      <td>5227.0</td>\n",
       "      <td>True</td>\n",
       "      <td>no</td>\n",
       "    </tr>\n",
       "    <tr>\n",
       "      <th>3</th>\n",
       "      <td>46.0</td>\n",
       "      <td>blue-collar</td>\n",
       "      <td>divorced</td>\n",
       "      <td>unknown</td>\n",
       "      <td>no</td>\n",
       "      <td>no</td>\n",
       "      <td>no</td>\n",
       "      <td>cellular</td>\n",
       "      <td>jul</td>\n",
       "      <td>tue</td>\n",
       "      <td>...</td>\n",
       "      <td>999</td>\n",
       "      <td>0</td>\n",
       "      <td>nonexistent</td>\n",
       "      <td>1.335875</td>\n",
       "      <td>94.525150</td>\n",
       "      <td>-42.931450</td>\n",
       "      <td>5.070245</td>\n",
       "      <td>5233.0</td>\n",
       "      <td>True</td>\n",
       "      <td>no</td>\n",
       "    </tr>\n",
       "    <tr>\n",
       "      <th>4</th>\n",
       "      <td>51.0</td>\n",
       "      <td>management</td>\n",
       "      <td>married</td>\n",
       "      <td>university.degree</td>\n",
       "      <td>no</td>\n",
       "      <td>yes</td>\n",
       "      <td>no</td>\n",
       "      <td>telephone</td>\n",
       "      <td>jun</td>\n",
       "      <td>fri</td>\n",
       "      <td>...</td>\n",
       "      <td>999</td>\n",
       "      <td>0</td>\n",
       "      <td>nonexistent</td>\n",
       "      <td>1.468371</td>\n",
       "      <td>94.173802</td>\n",
       "      <td>-42.645052</td>\n",
       "      <td>5.113962</td>\n",
       "      <td>5228.0</td>\n",
       "      <td>True</td>\n",
       "      <td>no</td>\n",
       "    </tr>\n",
       "  </tbody>\n",
       "</table>\n",
       "<p>5 rows × 21 columns</p>\n",
       "</div>"
      ],
      "text/plain": [
       "    age           job marital_status          education credit_default  \\\n",
       "0  52.0   blue-collar        married           basic.4y        unknown   \n",
       "1  41.0   blue-collar         single           basic.6y        unknown   \n",
       "2  36.0  entrepreneur         single  university.degree             no   \n",
       "3  46.0   blue-collar       divorced            unknown             no   \n",
       "4  51.0    management        married  university.degree             no   \n",
       "\n",
       "  housing loan    contact month day_of_week    ...      prev_days  \\\n",
       "0      no   no  telephone   may         thu    ...            999   \n",
       "1     yes   no   cellular   apr         fri    ...            999   \n",
       "2     yes   no  telephone   jun         fri    ...            999   \n",
       "3      no   no   cellular   jul         tue    ...            999   \n",
       "4     yes   no  telephone   jun         fri    ...            999   \n",
       "\n",
       "   prev_contacts  prev_outcomes emp_var_rate  cons_price_idx  cons_conf_idx  \\\n",
       "0              0    nonexistent     1.178261       94.236694     -37.048583   \n",
       "1              1        failure    -2.000945       94.103725     -46.096535   \n",
       "2              0    nonexistent     1.331550       94.790008     -41.728380   \n",
       "3              0    nonexistent     1.335875       94.525150     -42.931450   \n",
       "4              0    nonexistent     1.468371       94.173802     -42.645052   \n",
       "\n",
       "   euribor3m  nr_employed  never_contacted subscribed  \n",
       "0   4.746075       5192.0             True         no  \n",
       "1   1.427209       5096.0             True         no  \n",
       "2   4.990515       5227.0             True         no  \n",
       "3   5.070245       5233.0             True         no  \n",
       "4   5.113962       5228.0             True         no  \n",
       "\n",
       "[5 rows x 21 columns]"
      ]
     },
     "execution_count": 15,
     "metadata": {},
     "output_type": "execute_result"
    }
   ],
   "source": [
    "train_df['never_contacted'] = train_df['prev_days'] == 999\n",
    "train_df = train_df[list(train_df.columns[:-2]) + list([train_df.columns[-1]]) + list([train_df.columns[-2]])]\n",
    "train_df.head()"
   ]
  },
  {
   "cell_type": "markdown",
   "metadata": {},
   "source": [
    "We also see that a lot of our categorical variables (`job`, `marital_status`, `education`, `credit_default`, `housing`, `loan`) have an 'unknown' category. We can treat these as an additional category or state that each of these values can take on, and so one-hot encoding will take care of this."
   ]
  },
  {
   "cell_type": "markdown",
   "metadata": {},
   "source": [
    "Let's now do one-hot encoding of our data. To avoid to problem where not all categories are represented in the converted data, IMLP recommends that we do this using the entire dataset (train and test), or that we do this using our train data but make sure that the names of the transformed columns are consistent to make sure that the semantics remain the same.\n",
    "\n",
    "I'll do the former."
   ]
  },
  {
   "cell_type": "markdown",
   "metadata": {},
   "source": [
    "First, I build a test_df, convert data types, and concatenate test_df and train_df."
   ]
  },
  {
   "cell_type": "code",
   "execution_count": 16,
   "metadata": {
    "collapsed": true
   },
   "outputs": [],
   "source": [
    "test_df = pd.DataFrame(X_test, columns=data.columns[:-1])\n",
    "test_df['subscribed'] = y_test\n",
    "\n",
    "for col in test_df.columns:\n",
    "    if isinstance(test_df[col][0], int):\n",
    "        test_df[col] = test_df[col].apply(pd.to_numeric, errors='coerce')\n",
    "    elif isinstance(test_df[col][0], float):\n",
    "        test_df[col] = test_df[col].apply(pd.to_numeric, errors='coerce')\n",
    "        \n",
    "test_df['never_contacted'] = test_df['prev_days'] == 999\n",
    "test_df = test_df[list(test_df.columns[:-2]) + list([test_df.columns[-1]]) + list([test_df.columns[-2]])]\n",
    "        \n",
    "c_df = pd.concat([train_df, test_df], axis=0)"
   ]
  },
  {
   "cell_type": "markdown",
   "metadata": {},
   "source": [
    "Now I get the dummies."
   ]
  },
  {
   "cell_type": "code",
   "execution_count": 17,
   "metadata": {
    "collapsed": false
   },
   "outputs": [
    {
     "data": {
      "text/html": [
       "<div>\n",
       "<table border=\"1\" class=\"dataframe\">\n",
       "  <thead>\n",
       "    <tr style=\"text-align: right;\">\n",
       "      <th></th>\n",
       "      <th>age</th>\n",
       "      <th>campaign</th>\n",
       "      <th>prev_days</th>\n",
       "      <th>prev_contacts</th>\n",
       "      <th>emp_var_rate</th>\n",
       "      <th>cons_price_idx</th>\n",
       "      <th>cons_conf_idx</th>\n",
       "      <th>euribor3m</th>\n",
       "      <th>nr_employed</th>\n",
       "      <th>never_contacted</th>\n",
       "      <th>...</th>\n",
       "      <th>month_sep</th>\n",
       "      <th>day_of_week_fri</th>\n",
       "      <th>day_of_week_mon</th>\n",
       "      <th>day_of_week_thu</th>\n",
       "      <th>day_of_week_tue</th>\n",
       "      <th>day_of_week_wed</th>\n",
       "      <th>prev_outcomes_failure</th>\n",
       "      <th>prev_outcomes_nonexistent</th>\n",
       "      <th>prev_outcomes_success</th>\n",
       "      <th>subscribed</th>\n",
       "    </tr>\n",
       "  </thead>\n",
       "  <tbody>\n",
       "    <tr>\n",
       "      <th>0</th>\n",
       "      <td>52.0</td>\n",
       "      <td>15.0</td>\n",
       "      <td>5.938053</td>\n",
       "      <td>0.0</td>\n",
       "      <td>1.178261</td>\n",
       "      <td>94.236694</td>\n",
       "      <td>-37.048583</td>\n",
       "      <td>4.746075</td>\n",
       "      <td>5192.0</td>\n",
       "      <td>1.0</td>\n",
       "      <td>...</td>\n",
       "      <td>0.0</td>\n",
       "      <td>0.0</td>\n",
       "      <td>0.0</td>\n",
       "      <td>1.0</td>\n",
       "      <td>0.0</td>\n",
       "      <td>0.0</td>\n",
       "      <td>0.0</td>\n",
       "      <td>1.0</td>\n",
       "      <td>0.0</td>\n",
       "      <td>0</td>\n",
       "    </tr>\n",
       "    <tr>\n",
       "      <th>1</th>\n",
       "      <td>41.0</td>\n",
       "      <td>4.0</td>\n",
       "      <td>5.938053</td>\n",
       "      <td>1.0</td>\n",
       "      <td>-2.000945</td>\n",
       "      <td>94.103725</td>\n",
       "      <td>-46.096535</td>\n",
       "      <td>1.427209</td>\n",
       "      <td>5096.0</td>\n",
       "      <td>1.0</td>\n",
       "      <td>...</td>\n",
       "      <td>0.0</td>\n",
       "      <td>1.0</td>\n",
       "      <td>0.0</td>\n",
       "      <td>0.0</td>\n",
       "      <td>0.0</td>\n",
       "      <td>0.0</td>\n",
       "      <td>1.0</td>\n",
       "      <td>0.0</td>\n",
       "      <td>0.0</td>\n",
       "      <td>0</td>\n",
       "    </tr>\n",
       "    <tr>\n",
       "      <th>2</th>\n",
       "      <td>36.0</td>\n",
       "      <td>1.0</td>\n",
       "      <td>5.938053</td>\n",
       "      <td>0.0</td>\n",
       "      <td>1.331550</td>\n",
       "      <td>94.790008</td>\n",
       "      <td>-41.728380</td>\n",
       "      <td>4.990515</td>\n",
       "      <td>5227.0</td>\n",
       "      <td>1.0</td>\n",
       "      <td>...</td>\n",
       "      <td>0.0</td>\n",
       "      <td>1.0</td>\n",
       "      <td>0.0</td>\n",
       "      <td>0.0</td>\n",
       "      <td>0.0</td>\n",
       "      <td>0.0</td>\n",
       "      <td>0.0</td>\n",
       "      <td>1.0</td>\n",
       "      <td>0.0</td>\n",
       "      <td>0</td>\n",
       "    </tr>\n",
       "    <tr>\n",
       "      <th>3</th>\n",
       "      <td>46.0</td>\n",
       "      <td>8.0</td>\n",
       "      <td>5.938053</td>\n",
       "      <td>0.0</td>\n",
       "      <td>1.335875</td>\n",
       "      <td>94.525150</td>\n",
       "      <td>-42.931450</td>\n",
       "      <td>5.070245</td>\n",
       "      <td>5233.0</td>\n",
       "      <td>1.0</td>\n",
       "      <td>...</td>\n",
       "      <td>0.0</td>\n",
       "      <td>0.0</td>\n",
       "      <td>0.0</td>\n",
       "      <td>0.0</td>\n",
       "      <td>1.0</td>\n",
       "      <td>0.0</td>\n",
       "      <td>0.0</td>\n",
       "      <td>1.0</td>\n",
       "      <td>0.0</td>\n",
       "      <td>0</td>\n",
       "    </tr>\n",
       "    <tr>\n",
       "      <th>4</th>\n",
       "      <td>51.0</td>\n",
       "      <td>3.0</td>\n",
       "      <td>5.938053</td>\n",
       "      <td>0.0</td>\n",
       "      <td>1.468371</td>\n",
       "      <td>94.173802</td>\n",
       "      <td>-42.645052</td>\n",
       "      <td>5.113962</td>\n",
       "      <td>5228.0</td>\n",
       "      <td>1.0</td>\n",
       "      <td>...</td>\n",
       "      <td>0.0</td>\n",
       "      <td>1.0</td>\n",
       "      <td>0.0</td>\n",
       "      <td>0.0</td>\n",
       "      <td>0.0</td>\n",
       "      <td>0.0</td>\n",
       "      <td>0.0</td>\n",
       "      <td>1.0</td>\n",
       "      <td>0.0</td>\n",
       "      <td>0</td>\n",
       "    </tr>\n",
       "  </tbody>\n",
       "</table>\n",
       "<p>5 rows × 64 columns</p>\n",
       "</div>"
      ],
      "text/plain": [
       "    age  campaign  prev_days  prev_contacts  emp_var_rate  cons_price_idx  \\\n",
       "0  52.0      15.0   5.938053            0.0      1.178261       94.236694   \n",
       "1  41.0       4.0   5.938053            1.0     -2.000945       94.103725   \n",
       "2  36.0       1.0   5.938053            0.0      1.331550       94.790008   \n",
       "3  46.0       8.0   5.938053            0.0      1.335875       94.525150   \n",
       "4  51.0       3.0   5.938053            0.0      1.468371       94.173802   \n",
       "\n",
       "   cons_conf_idx  euribor3m  nr_employed  never_contacted     ...      \\\n",
       "0     -37.048583   4.746075       5192.0              1.0     ...       \n",
       "1     -46.096535   1.427209       5096.0              1.0     ...       \n",
       "2     -41.728380   4.990515       5227.0              1.0     ...       \n",
       "3     -42.931450   5.070245       5233.0              1.0     ...       \n",
       "4     -42.645052   5.113962       5228.0              1.0     ...       \n",
       "\n",
       "   month_sep  day_of_week_fri  day_of_week_mon  day_of_week_thu  \\\n",
       "0        0.0              0.0              0.0              1.0   \n",
       "1        0.0              1.0              0.0              0.0   \n",
       "2        0.0              1.0              0.0              0.0   \n",
       "3        0.0              0.0              0.0              0.0   \n",
       "4        0.0              1.0              0.0              0.0   \n",
       "\n",
       "   day_of_week_tue  day_of_week_wed  prev_outcomes_failure  \\\n",
       "0              0.0              0.0                    0.0   \n",
       "1              0.0              0.0                    1.0   \n",
       "2              0.0              0.0                    0.0   \n",
       "3              1.0              0.0                    0.0   \n",
       "4              0.0              0.0                    0.0   \n",
       "\n",
       "   prev_outcomes_nonexistent  prev_outcomes_success  subscribed  \n",
       "0                        1.0                    0.0           0  \n",
       "1                        0.0                    0.0           0  \n",
       "2                        1.0                    0.0           0  \n",
       "3                        1.0                    0.0           0  \n",
       "4                        1.0                    0.0           0  \n",
       "\n",
       "[5 rows x 64 columns]"
      ]
     },
     "execution_count": 17,
     "metadata": {},
     "output_type": "execute_result"
    }
   ],
   "source": [
    "dc_df = pd.get_dummies(c_df)\n",
    "dc_df.loc[dc_df['prev_days'] == 999, 'prev_days'] = np.nan\n",
    "dc_df = dc_df.drop(['subscribed_no'], axis=1)\n",
    "idc_df = pd.DataFrame(Imputer(strategy=\"mean\").fit_transform(dc_df.drop(['subscribed_yes'], axis=1).values))\n",
    "#idc_df = pd.DataFrame(fancyimpute.MICE(verbose=0).complete(dc_df.drop(['subscribed_yes'], axis=1).values))\n",
    "idc_df.columns = list(dc_df.drop(['subscribed_yes'], axis=1).columns)\n",
    "idc_df['subscribed'] = dc_df['subscribed_yes'].values\n",
    "\n",
    "etrain_df = idc_df.iloc[:train_df.shape[0],:]\n",
    "etest_df = idc_df.iloc[train_df.shape[0]:,:]\n",
    "\n",
    "etrain_df.head()"
   ]
  },
  {
   "cell_type": "markdown",
   "metadata": {},
   "source": [
    "Lastly, we note that there's the issue of class imbalance: that is, there's many more of the negative class than there is of the positive class. For simplicity and speed, we'll be doing random undersampling of the majority class to handle this; it will be done as part of a pipeline."
   ]
  },
  {
   "cell_type": "code",
   "execution_count": 18,
   "metadata": {
    "collapsed": false
   },
   "outputs": [
    {
     "data": {
      "text/plain": [
       "0    29238\n",
       "1     3712\n",
       "Name: subscribed, dtype: int64"
      ]
     },
     "execution_count": 18,
     "metadata": {},
     "output_type": "execute_result"
    }
   ],
   "source": [
    "idc_df['subscribed'].value_counts()"
   ]
  },
  {
   "cell_type": "markdown",
   "metadata": {},
   "source": [
    "To encapsulate all of the general preprocessing steps:"
   ]
  },
  {
   "cell_type": "code",
   "execution_count": 19,
   "metadata": {
    "collapsed": false
   },
   "outputs": [
    {
     "name": "stdout",
     "output_type": "stream",
     "text": [
      "cache\t    hw3_benchmarks.ipynb      hw3_starter_notebook_bla.ipynb\r\n",
      "final_data  hw3_solution_Apr11.ipynb\r\n"
     ]
    }
   ],
   "source": [
    "!ls"
   ]
  },
  {
   "cell_type": "code",
   "execution_count": 20,
   "metadata": {
    "collapsed": true
   },
   "outputs": [],
   "source": [
    "def get_partitioned_data():\n",
    "    o_data = pd.read_csv('final_data/data.csv')\n",
    "    #raw_h_data = pd.read_csv('data/holdout.csv')\n",
    "    \n",
    "    data = o_data.drop(['duration'], axis=1)\n",
    "    #raw_h_data = raw_h_data.drop(['duration'], axis=1)\n",
    "    \n",
    "    data['subscribed'] = pd.Series(\n",
    "        [1 if val=='yes' else 0 for val in data['subscribed'].values]\n",
    "    )\n",
    "    \n",
    "    raw_X_train, raw_X_test, raw_y_train, raw_y_test = train_test_split(\n",
    "        data.drop('subscribed', axis=1).values, \n",
    "        data['subscribed'].values,\n",
    "        stratify=data['subscribed'].values,\n",
    "        random_state=0)\n",
    "    \n",
    "    return raw_X_train, raw_X_test, raw_y_train, raw_y_test#, raw_h_data.values"
   ]
  },
  {
   "cell_type": "code",
   "execution_count": 21,
   "metadata": {
    "collapsed": false
   },
   "outputs": [],
   "source": [
    "from sklearn.base import BaseEstimator, TransformerMixin\n",
    "\n",
    "class CategoricalTransformer(BaseEstimator, TransformerMixin):\n",
    "    'For this, I followed the example in: https://tomaugspurger.github.io/categorical-pipelines.html'\n",
    "    \n",
    "    def __init__(self):\n",
    "        self.transformed_columns_ = [u'age', u'campaign', u'prev_days', u'prev_contacts', \n",
    "            u'emp_var_rate', u'cons_price_idx', u'cons_conf_idx', u'euribor3m', u'nr_employed',\n",
    "            u'job_management', u'job_retired', u'job_self-employed', u'job_unknown',\n",
    "            u'job_unemployed', u'job_housemaid', u'job_admin.', u'job_entrepreneur',\n",
    "            u'job_services', u'job_student', u'job_technician', u'job_blue-collar',\n",
    "            u'marital_status_unknown', u'marital_status_single',\n",
    "            u'marital_status_married', u'marital_status_divorced',\n",
    "            u'education_basic.9y', u'education_illiterate', u'education_basic.4y',\n",
    "            u'education_unknown', u'education_basic.6y', u'education_high.school',\n",
    "            u'education_professional.course', u'education_university.degree',\n",
    "            u'credit_default_unknown', u'credit_default_yes', u'credit_default_no',\n",
    "            u'housing_unknown', u'housing_yes', u'housing_no', u'loan_unknown',\n",
    "            u'loan_yes', u'loan_no', u'contact_telephone', u'contact_cellular',\n",
    "            u'month_mar', u'month_apr', u'month_may',\n",
    "            u'month_jun', u'month_jul', u'month_aug', u'month_sep', u'month_oct',\n",
    "            u'month_nov', u'month_dec', u'day_of_week_mon', u'day_of_week_tue',\n",
    "            u'day_of_week_wed', u'day_of_week_thu', u'day_of_week_fri', u'prev_outcomes_failure',\n",
    "            u'prev_outcomes_success', u'prev_outcomes_nonexistent',\n",
    "            u'never_contacted_True', u'never_contacted_False']\n",
    "    \n",
    "    def fit(self, X, y=None, *args, **kwargs):\n",
    "        # fit should only take X and y as parameters\n",
    "        # Even if your model is unsupervised, you need to accept a y argument!\n",
    "        # Model fitting code goes here\n",
    "        return self\n",
    "\n",
    "    def transform(self, X, y=None, *args, **kwargs):\n",
    "        # transform takes as parameter only X\n",
    "        # Apply some transformation to X\n",
    "        tdf = pd.DataFrame(X)\n",
    "        tdf.columns = ['age', 'job', 'marital_status', 'education',\n",
    "                      'credit_default', 'housing', 'loan', 'contact',\n",
    "                      'month', 'day_of_week', 'campaign', 'prev_days',\n",
    "                      'prev_contacts', 'prev_outcomes', 'emp_var_rate',\n",
    "                      'cons_price_idx', 'cons_conf_idx', 'euribor3m',\n",
    "                      'nr_employed']\n",
    "        tdf['never_contacted'] = pd.Series(['True' if val else 'False' for val in (tdf['prev_days'] == 999).values])\n",
    "\n",
    "        jobs = ['management', 'retired', 'self-employed', \n",
    "                'unknown', 'unemployed', 'housemaid', 'admin.', \n",
    "                'entrepreneur', 'services', 'student', \n",
    "                'technician', 'blue-collar']\n",
    "        marital_statuses = ['unknown', 'single', 'married', 'divorced']\n",
    "        education_levels = ['basic.9y', 'illiterate', 'basic.4y', \n",
    "                            'unknown', 'basic.6y', 'high.school', \n",
    "                            'professional.course', 'university.degree']\n",
    "        credit_default_levels = ['unknown', 'yes', 'no']\n",
    "        housing_levels = ['unknown', 'yes', 'no']\n",
    "        loan_levels = ['unknown', 'yes', 'no']\n",
    "        contact_levels = ['telephone', 'cellular']\n",
    "        month_levels = ['mar', 'aug', 'sep', 'apr', 'jun', 'jul', \n",
    "                        'may', 'nov', 'dec', 'oct']\n",
    "        day_of_week_levels = ['thu', 'fri', 'mon', 'tue', 'wed']\n",
    "        prev_outcomes = ['failure', 'success', 'nonexistent']\n",
    "        never_contacted_levels = ['True', 'False']\n",
    "\n",
    "        for col in tdf.columns:\n",
    "            if isinstance(tdf[col][0], int):\n",
    "                tdf[col] = tdf[col].astype(np.int64)\n",
    "            elif isinstance(tdf[col][0], float):\n",
    "                tdf[col] = tdf[col].astype(np.float64)\n",
    "            elif isinstance(tdf[col][0], np.bool_):\n",
    "                tdf[col] = tdf[col].astype(np.int64)\n",
    "        \n",
    "        tdf['job'] = pd.Categorical(tdf.job, categories=jobs)\n",
    "        tdf['marital_status'] = pd.Categorical(tdf.marital_status, categories=marital_statuses)\n",
    "        tdf['education'] = pd.Categorical(tdf.education, categories=education_levels)\n",
    "        tdf['credit_default'] = pd.Categorical(tdf.credit_default, categories=credit_default_levels)\n",
    "        tdf['housing'] = pd.Categorical(tdf.housing, categories=housing_levels)\n",
    "        tdf['loan'] = pd.Categorical(tdf.loan, categories=loan_levels)\n",
    "        tdf['contact'] = pd.Categorical(tdf.contact, categories=contact_levels)\n",
    "        tdf['month'] = pd.Categorical(tdf.month, categories=month_levels)\n",
    "        tdf['day_of_week'] = pd.Categorical(tdf.day_of_week, categories=day_of_week_levels)\n",
    "        tdf['prev_outcomes'] = pd.Categorical(tdf.prev_outcomes, categories=prev_outcomes)\n",
    "        tdf['never_contacted'] = pd.Categorical(tdf.never_contacted, categories=never_contacted_levels)\n",
    "\n",
    "        pre_dummify_prev_days = tdf['prev_days']\n",
    "        \n",
    "        d_tdf = pd.get_dummies(tdf).reindex(columns=self.transformed_columns_)\n",
    "        \n",
    "        d_tdf['prev_days'] = pre_dummify_prev_days\n",
    "        d_tdf.loc[d_tdf['prev_days'] == 999, 'prev_days'] = np.nan\n",
    "                \n",
    "        return (d_tdf.values)\n",
    "        \n",
    "\n",
    "class FancyImputeTransformer(BaseEstimator, TransformerMixin):\n",
    "    def __init__(self, missing_values=np.nan):\n",
    "        # All parameters must be specified in the __init__ function\n",
    "        self.missing_values=missing_values\n",
    "    \n",
    "    def fit(self, X, y=None):\n",
    "        # fit should only take X and y as parameters\n",
    "        # Even if your model is unsupervised, you need to accept a y argument!\n",
    "        # Model fitting code goes here\n",
    "        return self\n",
    "\n",
    "    def transform(self, X):\n",
    "        # transform takes as parameter only X\n",
    "        # Apply some transformation to X\n",
    "        X_transformed = fancyimpute.MICE(verbose=0).complete(X)\n",
    "        return X_transformed\n"
   ]
  },
  {
   "cell_type": "code",
   "execution_count": 22,
   "metadata": {
    "collapsed": false
   },
   "outputs": [
    {
     "name": "stdout",
     "output_type": "stream",
     "text": [
      "Shape of X_train: (10000, 64)\n",
      "Shape of y_train: (10000,)\n",
      "Shape of X_test: (2500, 64)\n",
      "Shape of y_test: (2500,)\n"
     ]
    }
   ],
   "source": [
    "def get_transformed_data():\n",
    "    ct = CategoricalTransformer()\n",
    "    it = FancyImputeTransformer()\n",
    "    st = RobustScaler()\n",
    "\n",
    "    pipe = imb_Pipeline([\n",
    "            ('dummyencoding', ct),\n",
    "            ('imputing', it),\n",
    "            ('scaling', st),\n",
    "            ('sampling', RandomOverSampler()),\n",
    "        ])\n",
    "    \n",
    "    #raw_X_train, raw_X_test, raw_y_train, raw_y_test, raw_h_data = get_partitioned_data()\n",
    "    raw_X_train, raw_X_test, raw_y_train, raw_y_test = get_partitioned_data()\n",
    "    encoded_imputed_samples = pipe.fit_sample(raw_X_train, raw_y_train)\n",
    "    shuffled_df = pd.concat([pd.DataFrame(encoded_imputed_samples[0]), \n",
    "                             pd.DataFrame(encoded_imputed_samples[1], columns=['subscribed'])], \n",
    "                            axis=1).sample(frac=1)\n",
    "    \n",
    "    sss = StratifiedShuffleSplit(n_splits=2, train_size=10000, test_size=2500, random_state=0)\n",
    "    one_ind, _ = sss.split(shuffled_df.values[:,:-1], shuffled_df.values[:,-1])\n",
    "    \n",
    "    X_train = shuffled_df.values[one_ind[0],:-1]\n",
    "    y_train = shuffled_df.values[one_ind[0],-1]\n",
    "    \n",
    "    X_test = shuffled_df.values[one_ind[1],:-1]\n",
    "    y_test = shuffled_df.values[one_ind[1],-1]\n",
    "\n",
    "    #X_train = shuffled_df.drop(['subscribed'], axis=1).values\n",
    "    #y_train = shuffled_df['subscribed'].values\n",
    "    \n",
    "    test_pipe = imb_Pipeline([\n",
    "            ('dummyencoding', ct),\n",
    "            ('imputing', it),\n",
    "            ('scaling', st),\n",
    "        ])\n",
    "\n",
    "    #X_test = test_pipe.transform(raw_X_test)\n",
    "    #y_test = raw_y_test\n",
    "        \n",
    "    #h_data = np.hstack([raw_h_data[:,0].reshape(raw_h_data.shape[0], 1), test_pipe.transform(raw_h_data[:,1:])])\n",
    "    \n",
    "    return X_train, X_test, y_train, y_test#, h_data\n",
    "\n",
    "#X_train, X_test, y_train, y_test, h_data = get_transformed_data()\n",
    "X_train, X_test, y_train, y_test = get_transformed_data()\n",
    "print(\"Shape of X_train: {}\".format(X_train.shape))\n",
    "print(\"Shape of y_train: {}\".format(y_train.shape))\n",
    "print(\"Shape of X_test: {}\".format(X_test.shape))\n",
    "print(\"Shape of y_test: {}\".format(y_test.shape))\n",
    "#print(\"Shape of h_data: {}\".format(h_data.shape))"
   ]
  },
  {
   "cell_type": "markdown",
   "metadata": {},
   "source": [
    "# Step2 - ModelSet1 [35 points]\n",
    "\n",
    "In this step, we expect you to perform the following steps relevant to the models you choose for set1:\n",
    "\n",
    "* feature engineering\n",
    "* validation\n",
    "* feature selection\n",
    "* final model selection\n",
    "\n",
    "You may select up to 5 models in this step for the purpose of final ensemble. Any classification algorithm covered in class apart from tree-based models can be tested here."
   ]
  },
  {
   "cell_type": "markdown",
   "metadata": {},
   "source": [
    "For this section, I'll first explore linear models.\n",
    "\n",
    "My plan is to first do a \"course adjustment\" grid search (over various preprocessing steps, models, and parameter settings), and then do a \"fine adjustment\" grid search.\n",
    "\n",
    "Then I'll use the results from the second grid search to select the 5 best models.\n",
    "\n",
    "In particular, I'll use kernelized SVMS; because they are very sensitive to the settings of the parameters and to the scaling of the data, I'll make sure to carry out additional pre-processing steps and will use grid searches to find the optimal parameter settings."
   ]
  },
  {
   "cell_type": "code",
   "execution_count": 23,
   "metadata": {
    "collapsed": true
   },
   "outputs": [],
   "source": [
    "model_set_1_results = pd.DataFrame()"
   ]
  },
  {
   "cell_type": "code",
   "execution_count": 25,
   "metadata": {
    "collapsed": false,
    "scrolled": true
   },
   "outputs": [
    {
     "ename": "KeyboardInterrupt",
     "evalue": "",
     "output_type": "error",
     "traceback": [
      "\u001b[0;31m---------------------------------------------------------------------------\u001b[0m",
      "\u001b[0;31mKeyboardInterrupt\u001b[0m                         Traceback (most recent call last)",
      "\u001b[0;32m<ipython-input-25-003c84cdc5a5>\u001b[0m in \u001b[0;36m<module>\u001b[0;34m()\u001b[0m\n\u001b[1;32m      3\u001b[0m \u001b[0;34m\u001b[0m\u001b[0m\n\u001b[1;32m      4\u001b[0m \u001b[0msvc_grid\u001b[0m \u001b[0;34m=\u001b[0m \u001b[0mGridSearchCV\u001b[0m\u001b[0;34m(\u001b[0m\u001b[0mSVC\u001b[0m\u001b[0;34m(\u001b[0m\u001b[0;34m)\u001b[0m\u001b[0;34m,\u001b[0m \u001b[0msvc_param_grid\u001b[0m\u001b[0;34m,\u001b[0m \u001b[0mcv\u001b[0m\u001b[0;34m=\u001b[0m\u001b[0;36m5\u001b[0m\u001b[0;34m,\u001b[0m \u001b[0mscoring\u001b[0m\u001b[0;34m=\u001b[0m\u001b[0;34m\"roc_auc\"\u001b[0m\u001b[0;34m)\u001b[0m\u001b[0;34m\u001b[0m\u001b[0m\n\u001b[0;32m----> 5\u001b[0;31m \u001b[0msvc_grid\u001b[0m\u001b[0;34m.\u001b[0m\u001b[0mfit\u001b[0m\u001b[0;34m(\u001b[0m\u001b[0mX_train\u001b[0m\u001b[0;34m,\u001b[0m \u001b[0my_train\u001b[0m\u001b[0;34m)\u001b[0m\u001b[0;34m\u001b[0m\u001b[0m\n\u001b[0m\u001b[1;32m      6\u001b[0m \u001b[0;34m\u001b[0m\u001b[0m\n\u001b[1;32m      7\u001b[0m \u001b[0mprint\u001b[0m\u001b[0;34m(\u001b[0m\u001b[0;34m\"Best SVC CV: {}\"\u001b[0m\u001b[0;34m.\u001b[0m\u001b[0mformat\u001b[0m\u001b[0;34m(\u001b[0m\u001b[0msvc_grid\u001b[0m\u001b[0;34m.\u001b[0m\u001b[0mbest_score_\u001b[0m\u001b[0;34m)\u001b[0m\u001b[0;34m)\u001b[0m\u001b[0;34m\u001b[0m\u001b[0m\n",
      "\u001b[0;32m/home/andy/checkout/scikit-learn/sklearn/model_selection/_search.py\u001b[0m in \u001b[0;36mfit\u001b[0;34m(self, X, y, groups, **fit_params)\u001b[0m\n\u001b[1;32m    601\u001b[0m                                   \u001b[0mreturn_times\u001b[0m\u001b[0;34m=\u001b[0m\u001b[0;32mTrue\u001b[0m\u001b[0;34m,\u001b[0m \u001b[0mreturn_parameters\u001b[0m\u001b[0;34m=\u001b[0m\u001b[0;32mFalse\u001b[0m\u001b[0;34m,\u001b[0m\u001b[0;34m\u001b[0m\u001b[0m\n\u001b[1;32m    602\u001b[0m                                   error_score=self.error_score)\n\u001b[0;32m--> 603\u001b[0;31m           \u001b[0;32mfor\u001b[0m \u001b[0mtrain\u001b[0m\u001b[0;34m,\u001b[0m \u001b[0mtest\u001b[0m \u001b[0;32min\u001b[0m \u001b[0mcv\u001b[0m\u001b[0;34m.\u001b[0m\u001b[0msplit\u001b[0m\u001b[0;34m(\u001b[0m\u001b[0mX\u001b[0m\u001b[0;34m,\u001b[0m \u001b[0my\u001b[0m\u001b[0;34m,\u001b[0m \u001b[0mgroups\u001b[0m\u001b[0;34m)\u001b[0m\u001b[0;34m\u001b[0m\u001b[0m\n\u001b[0m\u001b[1;32m    604\u001b[0m           for parameters in candidate_params)\n\u001b[1;32m    605\u001b[0m \u001b[0;34m\u001b[0m\u001b[0m\n",
      "\u001b[0;32m/home/andy/checkout/scikit-learn/sklearn/externals/joblib/parallel.py\u001b[0m in \u001b[0;36m__call__\u001b[0;34m(self, iterable)\u001b[0m\n\u001b[1;32m    777\u001b[0m             \u001b[0;31m# was dispatched. In particular this covers the edge\u001b[0m\u001b[0;34m\u001b[0m\u001b[0;34m\u001b[0m\u001b[0m\n\u001b[1;32m    778\u001b[0m             \u001b[0;31m# case of Parallel used with an exhausted iterator.\u001b[0m\u001b[0;34m\u001b[0m\u001b[0;34m\u001b[0m\u001b[0m\n\u001b[0;32m--> 779\u001b[0;31m             \u001b[0;32mwhile\u001b[0m \u001b[0mself\u001b[0m\u001b[0;34m.\u001b[0m\u001b[0mdispatch_one_batch\u001b[0m\u001b[0;34m(\u001b[0m\u001b[0miterator\u001b[0m\u001b[0;34m)\u001b[0m\u001b[0;34m:\u001b[0m\u001b[0;34m\u001b[0m\u001b[0m\n\u001b[0m\u001b[1;32m    780\u001b[0m                 \u001b[0mself\u001b[0m\u001b[0;34m.\u001b[0m\u001b[0m_iterating\u001b[0m \u001b[0;34m=\u001b[0m \u001b[0;32mTrue\u001b[0m\u001b[0;34m\u001b[0m\u001b[0m\n\u001b[1;32m    781\u001b[0m             \u001b[0;32melse\u001b[0m\u001b[0;34m:\u001b[0m\u001b[0;34m\u001b[0m\u001b[0m\n",
      "\u001b[0;32m/home/andy/checkout/scikit-learn/sklearn/externals/joblib/parallel.py\u001b[0m in \u001b[0;36mdispatch_one_batch\u001b[0;34m(self, iterator)\u001b[0m\n\u001b[1;32m    623\u001b[0m                 \u001b[0;32mreturn\u001b[0m \u001b[0;32mFalse\u001b[0m\u001b[0;34m\u001b[0m\u001b[0m\n\u001b[1;32m    624\u001b[0m             \u001b[0;32melse\u001b[0m\u001b[0;34m:\u001b[0m\u001b[0;34m\u001b[0m\u001b[0m\n\u001b[0;32m--> 625\u001b[0;31m                 \u001b[0mself\u001b[0m\u001b[0;34m.\u001b[0m\u001b[0m_dispatch\u001b[0m\u001b[0;34m(\u001b[0m\u001b[0mtasks\u001b[0m\u001b[0;34m)\u001b[0m\u001b[0;34m\u001b[0m\u001b[0m\n\u001b[0m\u001b[1;32m    626\u001b[0m                 \u001b[0;32mreturn\u001b[0m \u001b[0;32mTrue\u001b[0m\u001b[0;34m\u001b[0m\u001b[0m\n\u001b[1;32m    627\u001b[0m \u001b[0;34m\u001b[0m\u001b[0m\n",
      "\u001b[0;32m/home/andy/checkout/scikit-learn/sklearn/externals/joblib/parallel.py\u001b[0m in \u001b[0;36m_dispatch\u001b[0;34m(self, batch)\u001b[0m\n\u001b[1;32m    586\u001b[0m         \u001b[0mdispatch_timestamp\u001b[0m \u001b[0;34m=\u001b[0m \u001b[0mtime\u001b[0m\u001b[0;34m.\u001b[0m\u001b[0mtime\u001b[0m\u001b[0;34m(\u001b[0m\u001b[0;34m)\u001b[0m\u001b[0;34m\u001b[0m\u001b[0m\n\u001b[1;32m    587\u001b[0m         \u001b[0mcb\u001b[0m \u001b[0;34m=\u001b[0m \u001b[0mBatchCompletionCallBack\u001b[0m\u001b[0;34m(\u001b[0m\u001b[0mdispatch_timestamp\u001b[0m\u001b[0;34m,\u001b[0m \u001b[0mlen\u001b[0m\u001b[0;34m(\u001b[0m\u001b[0mbatch\u001b[0m\u001b[0;34m)\u001b[0m\u001b[0;34m,\u001b[0m \u001b[0mself\u001b[0m\u001b[0;34m)\u001b[0m\u001b[0;34m\u001b[0m\u001b[0m\n\u001b[0;32m--> 588\u001b[0;31m         \u001b[0mjob\u001b[0m \u001b[0;34m=\u001b[0m \u001b[0mself\u001b[0m\u001b[0;34m.\u001b[0m\u001b[0m_backend\u001b[0m\u001b[0;34m.\u001b[0m\u001b[0mapply_async\u001b[0m\u001b[0;34m(\u001b[0m\u001b[0mbatch\u001b[0m\u001b[0;34m,\u001b[0m \u001b[0mcallback\u001b[0m\u001b[0;34m=\u001b[0m\u001b[0mcb\u001b[0m\u001b[0;34m)\u001b[0m\u001b[0;34m\u001b[0m\u001b[0m\n\u001b[0m\u001b[1;32m    589\u001b[0m         \u001b[0mself\u001b[0m\u001b[0;34m.\u001b[0m\u001b[0m_jobs\u001b[0m\u001b[0;34m.\u001b[0m\u001b[0mappend\u001b[0m\u001b[0;34m(\u001b[0m\u001b[0mjob\u001b[0m\u001b[0;34m)\u001b[0m\u001b[0;34m\u001b[0m\u001b[0m\n\u001b[1;32m    590\u001b[0m \u001b[0;34m\u001b[0m\u001b[0m\n",
      "\u001b[0;32m/home/andy/checkout/scikit-learn/sklearn/externals/joblib/_parallel_backends.py\u001b[0m in \u001b[0;36mapply_async\u001b[0;34m(self, func, callback)\u001b[0m\n\u001b[1;32m    109\u001b[0m     \u001b[0;32mdef\u001b[0m \u001b[0mapply_async\u001b[0m\u001b[0;34m(\u001b[0m\u001b[0mself\u001b[0m\u001b[0;34m,\u001b[0m \u001b[0mfunc\u001b[0m\u001b[0;34m,\u001b[0m \u001b[0mcallback\u001b[0m\u001b[0;34m=\u001b[0m\u001b[0;32mNone\u001b[0m\u001b[0;34m)\u001b[0m\u001b[0;34m:\u001b[0m\u001b[0;34m\u001b[0m\u001b[0m\n\u001b[1;32m    110\u001b[0m         \u001b[0;34m\"\"\"Schedule a func to be run\"\"\"\u001b[0m\u001b[0;34m\u001b[0m\u001b[0m\n\u001b[0;32m--> 111\u001b[0;31m         \u001b[0mresult\u001b[0m \u001b[0;34m=\u001b[0m \u001b[0mImmediateResult\u001b[0m\u001b[0;34m(\u001b[0m\u001b[0mfunc\u001b[0m\u001b[0;34m)\u001b[0m\u001b[0;34m\u001b[0m\u001b[0m\n\u001b[0m\u001b[1;32m    112\u001b[0m         \u001b[0;32mif\u001b[0m \u001b[0mcallback\u001b[0m\u001b[0;34m:\u001b[0m\u001b[0;34m\u001b[0m\u001b[0m\n\u001b[1;32m    113\u001b[0m             \u001b[0mcallback\u001b[0m\u001b[0;34m(\u001b[0m\u001b[0mresult\u001b[0m\u001b[0;34m)\u001b[0m\u001b[0;34m\u001b[0m\u001b[0m\n",
      "\u001b[0;32m/home/andy/checkout/scikit-learn/sklearn/externals/joblib/_parallel_backends.py\u001b[0m in \u001b[0;36m__init__\u001b[0;34m(self, batch)\u001b[0m\n\u001b[1;32m    330\u001b[0m         \u001b[0;31m# Don't delay the application, to avoid keeping the input\u001b[0m\u001b[0;34m\u001b[0m\u001b[0;34m\u001b[0m\u001b[0m\n\u001b[1;32m    331\u001b[0m         \u001b[0;31m# arguments in memory\u001b[0m\u001b[0;34m\u001b[0m\u001b[0;34m\u001b[0m\u001b[0m\n\u001b[0;32m--> 332\u001b[0;31m         \u001b[0mself\u001b[0m\u001b[0;34m.\u001b[0m\u001b[0mresults\u001b[0m \u001b[0;34m=\u001b[0m \u001b[0mbatch\u001b[0m\u001b[0;34m(\u001b[0m\u001b[0;34m)\u001b[0m\u001b[0;34m\u001b[0m\u001b[0m\n\u001b[0m\u001b[1;32m    333\u001b[0m \u001b[0;34m\u001b[0m\u001b[0m\n\u001b[1;32m    334\u001b[0m     \u001b[0;32mdef\u001b[0m \u001b[0mget\u001b[0m\u001b[0;34m(\u001b[0m\u001b[0mself\u001b[0m\u001b[0;34m)\u001b[0m\u001b[0;34m:\u001b[0m\u001b[0;34m\u001b[0m\u001b[0m\n",
      "\u001b[0;32m/home/andy/checkout/scikit-learn/sklearn/externals/joblib/parallel.py\u001b[0m in \u001b[0;36m__call__\u001b[0;34m(self)\u001b[0m\n\u001b[1;32m    129\u001b[0m \u001b[0;34m\u001b[0m\u001b[0m\n\u001b[1;32m    130\u001b[0m     \u001b[0;32mdef\u001b[0m \u001b[0m__call__\u001b[0m\u001b[0;34m(\u001b[0m\u001b[0mself\u001b[0m\u001b[0;34m)\u001b[0m\u001b[0;34m:\u001b[0m\u001b[0;34m\u001b[0m\u001b[0m\n\u001b[0;32m--> 131\u001b[0;31m         \u001b[0;32mreturn\u001b[0m \u001b[0;34m[\u001b[0m\u001b[0mfunc\u001b[0m\u001b[0;34m(\u001b[0m\u001b[0;34m*\u001b[0m\u001b[0margs\u001b[0m\u001b[0;34m,\u001b[0m \u001b[0;34m**\u001b[0m\u001b[0mkwargs\u001b[0m\u001b[0;34m)\u001b[0m \u001b[0;32mfor\u001b[0m \u001b[0mfunc\u001b[0m\u001b[0;34m,\u001b[0m \u001b[0margs\u001b[0m\u001b[0;34m,\u001b[0m \u001b[0mkwargs\u001b[0m \u001b[0;32min\u001b[0m \u001b[0mself\u001b[0m\u001b[0;34m.\u001b[0m\u001b[0mitems\u001b[0m\u001b[0;34m]\u001b[0m\u001b[0;34m\u001b[0m\u001b[0m\n\u001b[0m\u001b[1;32m    132\u001b[0m \u001b[0;34m\u001b[0m\u001b[0m\n\u001b[1;32m    133\u001b[0m     \u001b[0;32mdef\u001b[0m \u001b[0m__len__\u001b[0m\u001b[0;34m(\u001b[0m\u001b[0mself\u001b[0m\u001b[0;34m)\u001b[0m\u001b[0;34m:\u001b[0m\u001b[0;34m\u001b[0m\u001b[0m\n",
      "\u001b[0;32m/home/andy/checkout/scikit-learn/sklearn/externals/joblib/parallel.py\u001b[0m in \u001b[0;36m<listcomp>\u001b[0;34m(.0)\u001b[0m\n\u001b[1;32m    129\u001b[0m \u001b[0;34m\u001b[0m\u001b[0m\n\u001b[1;32m    130\u001b[0m     \u001b[0;32mdef\u001b[0m \u001b[0m__call__\u001b[0m\u001b[0;34m(\u001b[0m\u001b[0mself\u001b[0m\u001b[0;34m)\u001b[0m\u001b[0;34m:\u001b[0m\u001b[0;34m\u001b[0m\u001b[0m\n\u001b[0;32m--> 131\u001b[0;31m         \u001b[0;32mreturn\u001b[0m \u001b[0;34m[\u001b[0m\u001b[0mfunc\u001b[0m\u001b[0;34m(\u001b[0m\u001b[0;34m*\u001b[0m\u001b[0margs\u001b[0m\u001b[0;34m,\u001b[0m \u001b[0;34m**\u001b[0m\u001b[0mkwargs\u001b[0m\u001b[0;34m)\u001b[0m \u001b[0;32mfor\u001b[0m \u001b[0mfunc\u001b[0m\u001b[0;34m,\u001b[0m \u001b[0margs\u001b[0m\u001b[0;34m,\u001b[0m \u001b[0mkwargs\u001b[0m \u001b[0;32min\u001b[0m \u001b[0mself\u001b[0m\u001b[0;34m.\u001b[0m\u001b[0mitems\u001b[0m\u001b[0;34m]\u001b[0m\u001b[0;34m\u001b[0m\u001b[0m\n\u001b[0m\u001b[1;32m    132\u001b[0m \u001b[0;34m\u001b[0m\u001b[0m\n\u001b[1;32m    133\u001b[0m     \u001b[0;32mdef\u001b[0m \u001b[0m__len__\u001b[0m\u001b[0;34m(\u001b[0m\u001b[0mself\u001b[0m\u001b[0;34m)\u001b[0m\u001b[0;34m:\u001b[0m\u001b[0;34m\u001b[0m\u001b[0m\n",
      "\u001b[0;32m/home/andy/checkout/scikit-learn/sklearn/model_selection/_validation.py\u001b[0m in \u001b[0;36m_fit_and_score\u001b[0;34m(estimator, X, y, scorer, train, test, verbose, parameters, fit_params, return_train_score, return_parameters, return_n_test_samples, return_times, error_score)\u001b[0m\n\u001b[1;32m    261\u001b[0m         \u001b[0mscore_time\u001b[0m \u001b[0;34m=\u001b[0m \u001b[0mtime\u001b[0m\u001b[0;34m.\u001b[0m\u001b[0mtime\u001b[0m\u001b[0;34m(\u001b[0m\u001b[0;34m)\u001b[0m \u001b[0;34m-\u001b[0m \u001b[0mstart_time\u001b[0m \u001b[0;34m-\u001b[0m \u001b[0mfit_time\u001b[0m\u001b[0;34m\u001b[0m\u001b[0m\n\u001b[1;32m    262\u001b[0m         \u001b[0;32mif\u001b[0m \u001b[0mreturn_train_score\u001b[0m\u001b[0;34m:\u001b[0m\u001b[0;34m\u001b[0m\u001b[0m\n\u001b[0;32m--> 263\u001b[0;31m             \u001b[0mtrain_score\u001b[0m \u001b[0;34m=\u001b[0m \u001b[0m_score\u001b[0m\u001b[0;34m(\u001b[0m\u001b[0mestimator\u001b[0m\u001b[0;34m,\u001b[0m \u001b[0mX_train\u001b[0m\u001b[0;34m,\u001b[0m \u001b[0my_train\u001b[0m\u001b[0;34m,\u001b[0m \u001b[0mscorer\u001b[0m\u001b[0;34m)\u001b[0m\u001b[0;34m\u001b[0m\u001b[0m\n\u001b[0m\u001b[1;32m    264\u001b[0m \u001b[0;34m\u001b[0m\u001b[0m\n\u001b[1;32m    265\u001b[0m     \u001b[0;32mif\u001b[0m \u001b[0mverbose\u001b[0m \u001b[0;34m>\u001b[0m \u001b[0;36m2\u001b[0m\u001b[0;34m:\u001b[0m\u001b[0;34m\u001b[0m\u001b[0m\n",
      "\u001b[0;32m/home/andy/checkout/scikit-learn/sklearn/model_selection/_validation.py\u001b[0m in \u001b[0;36m_score\u001b[0;34m(estimator, X_test, y_test, scorer)\u001b[0m\n\u001b[1;32m    286\u001b[0m         \u001b[0mscore\u001b[0m \u001b[0;34m=\u001b[0m \u001b[0mscorer\u001b[0m\u001b[0;34m(\u001b[0m\u001b[0mestimator\u001b[0m\u001b[0;34m,\u001b[0m \u001b[0mX_test\u001b[0m\u001b[0;34m)\u001b[0m\u001b[0;34m\u001b[0m\u001b[0m\n\u001b[1;32m    287\u001b[0m     \u001b[0;32melse\u001b[0m\u001b[0;34m:\u001b[0m\u001b[0;34m\u001b[0m\u001b[0m\n\u001b[0;32m--> 288\u001b[0;31m         \u001b[0mscore\u001b[0m \u001b[0;34m=\u001b[0m \u001b[0mscorer\u001b[0m\u001b[0;34m(\u001b[0m\u001b[0mestimator\u001b[0m\u001b[0;34m,\u001b[0m \u001b[0mX_test\u001b[0m\u001b[0;34m,\u001b[0m \u001b[0my_test\u001b[0m\u001b[0;34m)\u001b[0m\u001b[0;34m\u001b[0m\u001b[0m\n\u001b[0m\u001b[1;32m    289\u001b[0m     \u001b[0;32mif\u001b[0m \u001b[0mhasattr\u001b[0m\u001b[0;34m(\u001b[0m\u001b[0mscore\u001b[0m\u001b[0;34m,\u001b[0m \u001b[0;34m'item'\u001b[0m\u001b[0;34m)\u001b[0m\u001b[0;34m:\u001b[0m\u001b[0;34m\u001b[0m\u001b[0m\n\u001b[1;32m    290\u001b[0m         \u001b[0;32mtry\u001b[0m\u001b[0;34m:\u001b[0m\u001b[0;34m\u001b[0m\u001b[0m\n",
      "\u001b[0;32m/home/andy/checkout/scikit-learn/sklearn/metrics/scorer.py\u001b[0m in \u001b[0;36m__call__\u001b[0;34m(self, clf, X, y, sample_weight)\u001b[0m\n\u001b[1;32m    184\u001b[0m         \u001b[0;32melse\u001b[0m\u001b[0;34m:\u001b[0m\u001b[0;34m\u001b[0m\u001b[0m\n\u001b[1;32m    185\u001b[0m             \u001b[0;32mtry\u001b[0m\u001b[0;34m:\u001b[0m\u001b[0;34m\u001b[0m\u001b[0m\n\u001b[0;32m--> 186\u001b[0;31m                 \u001b[0my_pred\u001b[0m \u001b[0;34m=\u001b[0m \u001b[0mclf\u001b[0m\u001b[0;34m.\u001b[0m\u001b[0mdecision_function\u001b[0m\u001b[0;34m(\u001b[0m\u001b[0mX\u001b[0m\u001b[0;34m)\u001b[0m\u001b[0;34m\u001b[0m\u001b[0m\n\u001b[0m\u001b[1;32m    187\u001b[0m \u001b[0;34m\u001b[0m\u001b[0m\n\u001b[1;32m    188\u001b[0m                 \u001b[0;31m# For multi-output multi-class estimator\u001b[0m\u001b[0;34m\u001b[0m\u001b[0;34m\u001b[0m\u001b[0m\n",
      "\u001b[0;32m/home/andy/checkout/scikit-learn/sklearn/svm/base.py\u001b[0m in \u001b[0;36mdecision_function\u001b[0;34m(self, X)\u001b[0m\n\u001b[1;32m    525\u001b[0m             n_classes)\n\u001b[1;32m    526\u001b[0m         \"\"\"\n\u001b[0;32m--> 527\u001b[0;31m         \u001b[0mdec\u001b[0m \u001b[0;34m=\u001b[0m \u001b[0mself\u001b[0m\u001b[0;34m.\u001b[0m\u001b[0m_decision_function\u001b[0m\u001b[0;34m(\u001b[0m\u001b[0mX\u001b[0m\u001b[0;34m)\u001b[0m\u001b[0;34m\u001b[0m\u001b[0m\n\u001b[0m\u001b[1;32m    528\u001b[0m         \u001b[0;32mif\u001b[0m \u001b[0mself\u001b[0m\u001b[0;34m.\u001b[0m\u001b[0mdecision_function_shape\u001b[0m \u001b[0;34m==\u001b[0m \u001b[0;34m'ovr'\u001b[0m \u001b[0;32mand\u001b[0m \u001b[0mlen\u001b[0m\u001b[0;34m(\u001b[0m\u001b[0mself\u001b[0m\u001b[0;34m.\u001b[0m\u001b[0mclasses_\u001b[0m\u001b[0;34m)\u001b[0m \u001b[0;34m>\u001b[0m \u001b[0;36m2\u001b[0m\u001b[0;34m:\u001b[0m\u001b[0;34m\u001b[0m\u001b[0m\n\u001b[1;32m    529\u001b[0m             \u001b[0;32mreturn\u001b[0m \u001b[0m_ovr_decision_function\u001b[0m\u001b[0;34m(\u001b[0m\u001b[0mdec\u001b[0m \u001b[0;34m<\u001b[0m \u001b[0;36m0\u001b[0m\u001b[0;34m,\u001b[0m \u001b[0;34m-\u001b[0m\u001b[0mdec\u001b[0m\u001b[0;34m,\u001b[0m \u001b[0mlen\u001b[0m\u001b[0;34m(\u001b[0m\u001b[0mself\u001b[0m\u001b[0;34m.\u001b[0m\u001b[0mclasses_\u001b[0m\u001b[0;34m)\u001b[0m\u001b[0;34m)\u001b[0m\u001b[0;34m\u001b[0m\u001b[0m\n",
      "\u001b[0;32m/home/andy/checkout/scikit-learn/sklearn/svm/base.py\u001b[0m in \u001b[0;36m_decision_function\u001b[0;34m(self, X)\u001b[0m\n\u001b[1;32m    388\u001b[0m             \u001b[0mdec_func\u001b[0m \u001b[0;34m=\u001b[0m \u001b[0mself\u001b[0m\u001b[0;34m.\u001b[0m\u001b[0m_sparse_decision_function\u001b[0m\u001b[0;34m(\u001b[0m\u001b[0mX\u001b[0m\u001b[0;34m)\u001b[0m\u001b[0;34m\u001b[0m\u001b[0m\n\u001b[1;32m    389\u001b[0m         \u001b[0;32melse\u001b[0m\u001b[0;34m:\u001b[0m\u001b[0;34m\u001b[0m\u001b[0m\n\u001b[0;32m--> 390\u001b[0;31m             \u001b[0mdec_func\u001b[0m \u001b[0;34m=\u001b[0m \u001b[0mself\u001b[0m\u001b[0;34m.\u001b[0m\u001b[0m_dense_decision_function\u001b[0m\u001b[0;34m(\u001b[0m\u001b[0mX\u001b[0m\u001b[0;34m)\u001b[0m\u001b[0;34m\u001b[0m\u001b[0m\n\u001b[0m\u001b[1;32m    391\u001b[0m \u001b[0;34m\u001b[0m\u001b[0m\n\u001b[1;32m    392\u001b[0m         \u001b[0;31m# In binary case, we need to flip the sign of coef, intercept and\u001b[0m\u001b[0;34m\u001b[0m\u001b[0;34m\u001b[0m\u001b[0m\n",
      "\u001b[0;32m/home/andy/checkout/scikit-learn/sklearn/svm/base.py\u001b[0m in \u001b[0;36m_dense_decision_function\u001b[0;34m(self, X)\u001b[0m\n\u001b[1;32m    410\u001b[0m             \u001b[0msvm_type\u001b[0m\u001b[0;34m=\u001b[0m\u001b[0mLIBSVM_IMPL\u001b[0m\u001b[0;34m.\u001b[0m\u001b[0mindex\u001b[0m\u001b[0;34m(\u001b[0m\u001b[0mself\u001b[0m\u001b[0;34m.\u001b[0m\u001b[0m_impl\u001b[0m\u001b[0;34m)\u001b[0m\u001b[0;34m,\u001b[0m\u001b[0;34m\u001b[0m\u001b[0m\n\u001b[1;32m    411\u001b[0m             \u001b[0mkernel\u001b[0m\u001b[0;34m=\u001b[0m\u001b[0mkernel\u001b[0m\u001b[0;34m,\u001b[0m \u001b[0mdegree\u001b[0m\u001b[0;34m=\u001b[0m\u001b[0mself\u001b[0m\u001b[0;34m.\u001b[0m\u001b[0mdegree\u001b[0m\u001b[0;34m,\u001b[0m \u001b[0mcache_size\u001b[0m\u001b[0;34m=\u001b[0m\u001b[0mself\u001b[0m\u001b[0;34m.\u001b[0m\u001b[0mcache_size\u001b[0m\u001b[0;34m,\u001b[0m\u001b[0;34m\u001b[0m\u001b[0m\n\u001b[0;32m--> 412\u001b[0;31m             coef0=self.coef0, gamma=self._gamma)\n\u001b[0m\u001b[1;32m    413\u001b[0m \u001b[0;34m\u001b[0m\u001b[0m\n\u001b[1;32m    414\u001b[0m     \u001b[0;32mdef\u001b[0m \u001b[0m_sparse_decision_function\u001b[0m\u001b[0;34m(\u001b[0m\u001b[0mself\u001b[0m\u001b[0;34m,\u001b[0m \u001b[0mX\u001b[0m\u001b[0;34m)\u001b[0m\u001b[0;34m:\u001b[0m\u001b[0;34m\u001b[0m\u001b[0m\n",
      "\u001b[0;31mKeyboardInterrupt\u001b[0m: "
     ]
    }
   ],
   "source": [
    "svc_param_grid = {'gamma': [0.001, 0.01, 0.1, 1, 10, 100],\n",
    "                  'C': [0.001, 0.01, 0.1, 1, 10, 100]}\n",
    "\n",
    "svc_grid = GridSearchCV(SVC(), svc_param_grid, cv=5, scoring=\"roc_auc\")\n",
    "svc_grid.fit(X_train, y_train)\n",
    "\n",
    "print(\"Best SVC CV: {}\".format(svc_grid.best_score_))\n",
    "print(\"Best SVC Test: {}\".format(svc_grid.score(X_test, y_test)))\n",
    "\n",
    "svc_results = pd.DataFrame(svc_grid.cv_results_)\n",
    "model_set_1_results = pd.concat([model_set_1_results, svc_results])\n",
    "svc_scores = np.array(svc_results.mean_test_score).reshape(6,6)\n",
    "\n",
    "svc_scores_image = mglearn.tools.heatmap(svc_scores, xlabel='gamma', xticklabels=svc_param_grid['gamma'],\n",
    "                                         ylabel='C', yticklabels=svc_param_grid['C'], cmap=\"viridis\")\n",
    "svc_colorbar = plt.colorbar(svc_scores_image)"
   ]
  },
  {
   "cell_type": "markdown",
   "metadata": {},
   "source": [
    "So we see that we have reason to explore further with lower values of gamma (perhaps now [0.000001, 0.00001, 0.0001, 0.001, 0.01, 0.1])."
   ]
  },
  {
   "cell_type": "code",
   "execution_count": null,
   "metadata": {
    "collapsed": false
   },
   "outputs": [],
   "source": [
    "svc_param_grid = {'gamma': [0.000001, 0.00001, 0.0001, 0.001, 0.01, 0.1],\n",
    "                  'C': [0.001, 0.01, 0.1, 1, 10, 100]}\n",
    "\n",
    "svc_grid = GridSearchCV(SVC(), svc_param_grid, cv=5, scoring=\"roc_auc\")\n",
    "svc_grid.fit(X_train, y_train)\n",
    "\n",
    "print(\"Best SVC CV: {}\".format(svc_grid.best_score_))\n",
    "print(\"Best SVC Test: {}\".format(svc_grid.score(X_test, y_test)))\n",
    "\n",
    "svc_results = pd.DataFrame(svc_grid.cv_results_)\n",
    "model_set_1_results = pd.concat([model_set_1_results, svc_results])\n",
    "svc_scores = np.array(svc_results.mean_test_score).reshape(6,6)\n",
    "\n",
    "svc_scores_image = mglearn.tools.heatmap(svc_scores, xlabel='gamma', xticklabels=svc_param_grid['gamma'],\n",
    "                                         ylabel='C', yticklabels=svc_param_grid['C'], cmap=\"viridis\")\n",
    "svc_colorbar = plt.colorbar(svc_scores_image)"
   ]
  },
  {
   "cell_type": "markdown",
   "metadata": {},
   "source": [
    "So we see that now we might want to explore larger values of C. Let's do [1, 10, 100, 1000, 10000, 100000]."
   ]
  },
  {
   "cell_type": "code",
   "execution_count": 27,
   "metadata": {
    "collapsed": false,
    "scrolled": true
   },
   "outputs": [
    {
     "ename": "KeyboardInterrupt",
     "evalue": "",
     "output_type": "error",
     "traceback": [
      "\u001b[0;31m---------------------------------------------------------------------------\u001b[0m",
      "\u001b[0;31mKeyboardInterrupt\u001b[0m                         Traceback (most recent call last)",
      "\u001b[0;32m<ipython-input-27-6779b53f1a81>\u001b[0m in \u001b[0;36m<module>\u001b[0;34m()\u001b[0m\n\u001b[1;32m      3\u001b[0m \u001b[0;34m\u001b[0m\u001b[0m\n\u001b[1;32m      4\u001b[0m \u001b[0msvc_grid\u001b[0m \u001b[0;34m=\u001b[0m \u001b[0mGridSearchCV\u001b[0m\u001b[0;34m(\u001b[0m\u001b[0mSVC\u001b[0m\u001b[0;34m(\u001b[0m\u001b[0;34m)\u001b[0m\u001b[0;34m,\u001b[0m \u001b[0msvc_param_grid\u001b[0m\u001b[0;34m,\u001b[0m \u001b[0mcv\u001b[0m\u001b[0;34m=\u001b[0m\u001b[0;36m5\u001b[0m\u001b[0;34m,\u001b[0m \u001b[0mscoring\u001b[0m\u001b[0;34m=\u001b[0m\u001b[0;34m\"roc_auc\"\u001b[0m\u001b[0;34m)\u001b[0m\u001b[0;34m\u001b[0m\u001b[0m\n\u001b[0;32m----> 5\u001b[0;31m \u001b[0msvc_grid\u001b[0m\u001b[0;34m.\u001b[0m\u001b[0mfit\u001b[0m\u001b[0;34m(\u001b[0m\u001b[0mX_train\u001b[0m\u001b[0;34m,\u001b[0m \u001b[0my_train\u001b[0m\u001b[0;34m)\u001b[0m\u001b[0;34m\u001b[0m\u001b[0m\n\u001b[0m\u001b[1;32m      6\u001b[0m \u001b[0;34m\u001b[0m\u001b[0m\n\u001b[1;32m      7\u001b[0m \u001b[0mprint\u001b[0m\u001b[0;34m(\u001b[0m\u001b[0;34m\"Best SVC CV: {}\"\u001b[0m\u001b[0;34m.\u001b[0m\u001b[0mformat\u001b[0m\u001b[0;34m(\u001b[0m\u001b[0msvc_grid\u001b[0m\u001b[0;34m.\u001b[0m\u001b[0mbest_score_\u001b[0m\u001b[0;34m)\u001b[0m\u001b[0;34m)\u001b[0m\u001b[0;34m\u001b[0m\u001b[0m\n",
      "\u001b[0;32m/home/andy/checkout/scikit-learn/sklearn/model_selection/_search.py\u001b[0m in \u001b[0;36mfit\u001b[0;34m(self, X, y, groups, **fit_params)\u001b[0m\n\u001b[1;32m    601\u001b[0m                                   \u001b[0mreturn_times\u001b[0m\u001b[0;34m=\u001b[0m\u001b[0;32mTrue\u001b[0m\u001b[0;34m,\u001b[0m \u001b[0mreturn_parameters\u001b[0m\u001b[0;34m=\u001b[0m\u001b[0;32mFalse\u001b[0m\u001b[0;34m,\u001b[0m\u001b[0;34m\u001b[0m\u001b[0m\n\u001b[1;32m    602\u001b[0m                                   error_score=self.error_score)\n\u001b[0;32m--> 603\u001b[0;31m           \u001b[0;32mfor\u001b[0m \u001b[0mtrain\u001b[0m\u001b[0;34m,\u001b[0m \u001b[0mtest\u001b[0m \u001b[0;32min\u001b[0m \u001b[0mcv\u001b[0m\u001b[0;34m.\u001b[0m\u001b[0msplit\u001b[0m\u001b[0;34m(\u001b[0m\u001b[0mX\u001b[0m\u001b[0;34m,\u001b[0m \u001b[0my\u001b[0m\u001b[0;34m,\u001b[0m \u001b[0mgroups\u001b[0m\u001b[0;34m)\u001b[0m\u001b[0;34m\u001b[0m\u001b[0m\n\u001b[0m\u001b[1;32m    604\u001b[0m           for parameters in candidate_params)\n\u001b[1;32m    605\u001b[0m \u001b[0;34m\u001b[0m\u001b[0m\n",
      "\u001b[0;32m/home/andy/checkout/scikit-learn/sklearn/externals/joblib/parallel.py\u001b[0m in \u001b[0;36m__call__\u001b[0;34m(self, iterable)\u001b[0m\n\u001b[1;32m    777\u001b[0m             \u001b[0;31m# was dispatched. In particular this covers the edge\u001b[0m\u001b[0;34m\u001b[0m\u001b[0;34m\u001b[0m\u001b[0m\n\u001b[1;32m    778\u001b[0m             \u001b[0;31m# case of Parallel used with an exhausted iterator.\u001b[0m\u001b[0;34m\u001b[0m\u001b[0;34m\u001b[0m\u001b[0m\n\u001b[0;32m--> 779\u001b[0;31m             \u001b[0;32mwhile\u001b[0m \u001b[0mself\u001b[0m\u001b[0;34m.\u001b[0m\u001b[0mdispatch_one_batch\u001b[0m\u001b[0;34m(\u001b[0m\u001b[0miterator\u001b[0m\u001b[0;34m)\u001b[0m\u001b[0;34m:\u001b[0m\u001b[0;34m\u001b[0m\u001b[0m\n\u001b[0m\u001b[1;32m    780\u001b[0m                 \u001b[0mself\u001b[0m\u001b[0;34m.\u001b[0m\u001b[0m_iterating\u001b[0m \u001b[0;34m=\u001b[0m \u001b[0;32mTrue\u001b[0m\u001b[0;34m\u001b[0m\u001b[0m\n\u001b[1;32m    781\u001b[0m             \u001b[0;32melse\u001b[0m\u001b[0;34m:\u001b[0m\u001b[0;34m\u001b[0m\u001b[0m\n",
      "\u001b[0;32m/home/andy/checkout/scikit-learn/sklearn/externals/joblib/parallel.py\u001b[0m in \u001b[0;36mdispatch_one_batch\u001b[0;34m(self, iterator)\u001b[0m\n\u001b[1;32m    623\u001b[0m                 \u001b[0;32mreturn\u001b[0m \u001b[0;32mFalse\u001b[0m\u001b[0;34m\u001b[0m\u001b[0m\n\u001b[1;32m    624\u001b[0m             \u001b[0;32melse\u001b[0m\u001b[0;34m:\u001b[0m\u001b[0;34m\u001b[0m\u001b[0m\n\u001b[0;32m--> 625\u001b[0;31m                 \u001b[0mself\u001b[0m\u001b[0;34m.\u001b[0m\u001b[0m_dispatch\u001b[0m\u001b[0;34m(\u001b[0m\u001b[0mtasks\u001b[0m\u001b[0;34m)\u001b[0m\u001b[0;34m\u001b[0m\u001b[0m\n\u001b[0m\u001b[1;32m    626\u001b[0m                 \u001b[0;32mreturn\u001b[0m \u001b[0;32mTrue\u001b[0m\u001b[0;34m\u001b[0m\u001b[0m\n\u001b[1;32m    627\u001b[0m \u001b[0;34m\u001b[0m\u001b[0m\n",
      "\u001b[0;32m/home/andy/checkout/scikit-learn/sklearn/externals/joblib/parallel.py\u001b[0m in \u001b[0;36m_dispatch\u001b[0;34m(self, batch)\u001b[0m\n\u001b[1;32m    586\u001b[0m         \u001b[0mdispatch_timestamp\u001b[0m \u001b[0;34m=\u001b[0m \u001b[0mtime\u001b[0m\u001b[0;34m.\u001b[0m\u001b[0mtime\u001b[0m\u001b[0;34m(\u001b[0m\u001b[0;34m)\u001b[0m\u001b[0;34m\u001b[0m\u001b[0m\n\u001b[1;32m    587\u001b[0m         \u001b[0mcb\u001b[0m \u001b[0;34m=\u001b[0m \u001b[0mBatchCompletionCallBack\u001b[0m\u001b[0;34m(\u001b[0m\u001b[0mdispatch_timestamp\u001b[0m\u001b[0;34m,\u001b[0m \u001b[0mlen\u001b[0m\u001b[0;34m(\u001b[0m\u001b[0mbatch\u001b[0m\u001b[0;34m)\u001b[0m\u001b[0;34m,\u001b[0m \u001b[0mself\u001b[0m\u001b[0;34m)\u001b[0m\u001b[0;34m\u001b[0m\u001b[0m\n\u001b[0;32m--> 588\u001b[0;31m         \u001b[0mjob\u001b[0m \u001b[0;34m=\u001b[0m \u001b[0mself\u001b[0m\u001b[0;34m.\u001b[0m\u001b[0m_backend\u001b[0m\u001b[0;34m.\u001b[0m\u001b[0mapply_async\u001b[0m\u001b[0;34m(\u001b[0m\u001b[0mbatch\u001b[0m\u001b[0;34m,\u001b[0m \u001b[0mcallback\u001b[0m\u001b[0;34m=\u001b[0m\u001b[0mcb\u001b[0m\u001b[0;34m)\u001b[0m\u001b[0;34m\u001b[0m\u001b[0m\n\u001b[0m\u001b[1;32m    589\u001b[0m         \u001b[0mself\u001b[0m\u001b[0;34m.\u001b[0m\u001b[0m_jobs\u001b[0m\u001b[0;34m.\u001b[0m\u001b[0mappend\u001b[0m\u001b[0;34m(\u001b[0m\u001b[0mjob\u001b[0m\u001b[0;34m)\u001b[0m\u001b[0;34m\u001b[0m\u001b[0m\n\u001b[1;32m    590\u001b[0m \u001b[0;34m\u001b[0m\u001b[0m\n",
      "\u001b[0;32m/home/andy/checkout/scikit-learn/sklearn/externals/joblib/_parallel_backends.py\u001b[0m in \u001b[0;36mapply_async\u001b[0;34m(self, func, callback)\u001b[0m\n\u001b[1;32m    109\u001b[0m     \u001b[0;32mdef\u001b[0m \u001b[0mapply_async\u001b[0m\u001b[0;34m(\u001b[0m\u001b[0mself\u001b[0m\u001b[0;34m,\u001b[0m \u001b[0mfunc\u001b[0m\u001b[0;34m,\u001b[0m \u001b[0mcallback\u001b[0m\u001b[0;34m=\u001b[0m\u001b[0;32mNone\u001b[0m\u001b[0;34m)\u001b[0m\u001b[0;34m:\u001b[0m\u001b[0;34m\u001b[0m\u001b[0m\n\u001b[1;32m    110\u001b[0m         \u001b[0;34m\"\"\"Schedule a func to be run\"\"\"\u001b[0m\u001b[0;34m\u001b[0m\u001b[0m\n\u001b[0;32m--> 111\u001b[0;31m         \u001b[0mresult\u001b[0m \u001b[0;34m=\u001b[0m \u001b[0mImmediateResult\u001b[0m\u001b[0;34m(\u001b[0m\u001b[0mfunc\u001b[0m\u001b[0;34m)\u001b[0m\u001b[0;34m\u001b[0m\u001b[0m\n\u001b[0m\u001b[1;32m    112\u001b[0m         \u001b[0;32mif\u001b[0m \u001b[0mcallback\u001b[0m\u001b[0;34m:\u001b[0m\u001b[0;34m\u001b[0m\u001b[0m\n\u001b[1;32m    113\u001b[0m             \u001b[0mcallback\u001b[0m\u001b[0;34m(\u001b[0m\u001b[0mresult\u001b[0m\u001b[0;34m)\u001b[0m\u001b[0;34m\u001b[0m\u001b[0m\n",
      "\u001b[0;32m/home/andy/checkout/scikit-learn/sklearn/externals/joblib/_parallel_backends.py\u001b[0m in \u001b[0;36m__init__\u001b[0;34m(self, batch)\u001b[0m\n\u001b[1;32m    330\u001b[0m         \u001b[0;31m# Don't delay the application, to avoid keeping the input\u001b[0m\u001b[0;34m\u001b[0m\u001b[0;34m\u001b[0m\u001b[0m\n\u001b[1;32m    331\u001b[0m         \u001b[0;31m# arguments in memory\u001b[0m\u001b[0;34m\u001b[0m\u001b[0;34m\u001b[0m\u001b[0m\n\u001b[0;32m--> 332\u001b[0;31m         \u001b[0mself\u001b[0m\u001b[0;34m.\u001b[0m\u001b[0mresults\u001b[0m \u001b[0;34m=\u001b[0m \u001b[0mbatch\u001b[0m\u001b[0;34m(\u001b[0m\u001b[0;34m)\u001b[0m\u001b[0;34m\u001b[0m\u001b[0m\n\u001b[0m\u001b[1;32m    333\u001b[0m \u001b[0;34m\u001b[0m\u001b[0m\n\u001b[1;32m    334\u001b[0m     \u001b[0;32mdef\u001b[0m \u001b[0mget\u001b[0m\u001b[0;34m(\u001b[0m\u001b[0mself\u001b[0m\u001b[0;34m)\u001b[0m\u001b[0;34m:\u001b[0m\u001b[0;34m\u001b[0m\u001b[0m\n",
      "\u001b[0;32m/home/andy/checkout/scikit-learn/sklearn/externals/joblib/parallel.py\u001b[0m in \u001b[0;36m__call__\u001b[0;34m(self)\u001b[0m\n\u001b[1;32m    129\u001b[0m \u001b[0;34m\u001b[0m\u001b[0m\n\u001b[1;32m    130\u001b[0m     \u001b[0;32mdef\u001b[0m \u001b[0m__call__\u001b[0m\u001b[0;34m(\u001b[0m\u001b[0mself\u001b[0m\u001b[0;34m)\u001b[0m\u001b[0;34m:\u001b[0m\u001b[0;34m\u001b[0m\u001b[0m\n\u001b[0;32m--> 131\u001b[0;31m         \u001b[0;32mreturn\u001b[0m \u001b[0;34m[\u001b[0m\u001b[0mfunc\u001b[0m\u001b[0;34m(\u001b[0m\u001b[0;34m*\u001b[0m\u001b[0margs\u001b[0m\u001b[0;34m,\u001b[0m \u001b[0;34m**\u001b[0m\u001b[0mkwargs\u001b[0m\u001b[0;34m)\u001b[0m \u001b[0;32mfor\u001b[0m \u001b[0mfunc\u001b[0m\u001b[0;34m,\u001b[0m \u001b[0margs\u001b[0m\u001b[0;34m,\u001b[0m \u001b[0mkwargs\u001b[0m \u001b[0;32min\u001b[0m \u001b[0mself\u001b[0m\u001b[0;34m.\u001b[0m\u001b[0mitems\u001b[0m\u001b[0;34m]\u001b[0m\u001b[0;34m\u001b[0m\u001b[0m\n\u001b[0m\u001b[1;32m    132\u001b[0m \u001b[0;34m\u001b[0m\u001b[0m\n\u001b[1;32m    133\u001b[0m     \u001b[0;32mdef\u001b[0m \u001b[0m__len__\u001b[0m\u001b[0;34m(\u001b[0m\u001b[0mself\u001b[0m\u001b[0;34m)\u001b[0m\u001b[0;34m:\u001b[0m\u001b[0;34m\u001b[0m\u001b[0m\n",
      "\u001b[0;32m/home/andy/checkout/scikit-learn/sklearn/externals/joblib/parallel.py\u001b[0m in \u001b[0;36m<listcomp>\u001b[0;34m(.0)\u001b[0m\n\u001b[1;32m    129\u001b[0m \u001b[0;34m\u001b[0m\u001b[0m\n\u001b[1;32m    130\u001b[0m     \u001b[0;32mdef\u001b[0m \u001b[0m__call__\u001b[0m\u001b[0;34m(\u001b[0m\u001b[0mself\u001b[0m\u001b[0;34m)\u001b[0m\u001b[0;34m:\u001b[0m\u001b[0;34m\u001b[0m\u001b[0m\n\u001b[0;32m--> 131\u001b[0;31m         \u001b[0;32mreturn\u001b[0m \u001b[0;34m[\u001b[0m\u001b[0mfunc\u001b[0m\u001b[0;34m(\u001b[0m\u001b[0;34m*\u001b[0m\u001b[0margs\u001b[0m\u001b[0;34m,\u001b[0m \u001b[0;34m**\u001b[0m\u001b[0mkwargs\u001b[0m\u001b[0;34m)\u001b[0m \u001b[0;32mfor\u001b[0m \u001b[0mfunc\u001b[0m\u001b[0;34m,\u001b[0m \u001b[0margs\u001b[0m\u001b[0;34m,\u001b[0m \u001b[0mkwargs\u001b[0m \u001b[0;32min\u001b[0m \u001b[0mself\u001b[0m\u001b[0;34m.\u001b[0m\u001b[0mitems\u001b[0m\u001b[0;34m]\u001b[0m\u001b[0;34m\u001b[0m\u001b[0m\n\u001b[0m\u001b[1;32m    132\u001b[0m \u001b[0;34m\u001b[0m\u001b[0m\n\u001b[1;32m    133\u001b[0m     \u001b[0;32mdef\u001b[0m \u001b[0m__len__\u001b[0m\u001b[0;34m(\u001b[0m\u001b[0mself\u001b[0m\u001b[0;34m)\u001b[0m\u001b[0;34m:\u001b[0m\u001b[0;34m\u001b[0m\u001b[0m\n",
      "\u001b[0;32m/home/andy/checkout/scikit-learn/sklearn/model_selection/_validation.py\u001b[0m in \u001b[0;36m_fit_and_score\u001b[0;34m(estimator, X, y, scorer, train, test, verbose, parameters, fit_params, return_train_score, return_parameters, return_n_test_samples, return_times, error_score)\u001b[0m\n\u001b[1;32m    236\u001b[0m             \u001b[0mestimator\u001b[0m\u001b[0;34m.\u001b[0m\u001b[0mfit\u001b[0m\u001b[0;34m(\u001b[0m\u001b[0mX_train\u001b[0m\u001b[0;34m,\u001b[0m \u001b[0;34m**\u001b[0m\u001b[0mfit_params\u001b[0m\u001b[0;34m)\u001b[0m\u001b[0;34m\u001b[0m\u001b[0m\n\u001b[1;32m    237\u001b[0m         \u001b[0;32melse\u001b[0m\u001b[0;34m:\u001b[0m\u001b[0;34m\u001b[0m\u001b[0m\n\u001b[0;32m--> 238\u001b[0;31m             \u001b[0mestimator\u001b[0m\u001b[0;34m.\u001b[0m\u001b[0mfit\u001b[0m\u001b[0;34m(\u001b[0m\u001b[0mX_train\u001b[0m\u001b[0;34m,\u001b[0m \u001b[0my_train\u001b[0m\u001b[0;34m,\u001b[0m \u001b[0;34m**\u001b[0m\u001b[0mfit_params\u001b[0m\u001b[0;34m)\u001b[0m\u001b[0;34m\u001b[0m\u001b[0m\n\u001b[0m\u001b[1;32m    239\u001b[0m \u001b[0;34m\u001b[0m\u001b[0m\n\u001b[1;32m    240\u001b[0m     \u001b[0;32mexcept\u001b[0m \u001b[0mException\u001b[0m \u001b[0;32mas\u001b[0m \u001b[0me\u001b[0m\u001b[0;34m:\u001b[0m\u001b[0;34m\u001b[0m\u001b[0m\n",
      "\u001b[0;32m/home/andy/checkout/scikit-learn/sklearn/svm/base.py\u001b[0m in \u001b[0;36mfit\u001b[0;34m(self, X, y, sample_weight)\u001b[0m\n\u001b[1;32m    185\u001b[0m \u001b[0;34m\u001b[0m\u001b[0m\n\u001b[1;32m    186\u001b[0m         \u001b[0mseed\u001b[0m \u001b[0;34m=\u001b[0m \u001b[0mrnd\u001b[0m\u001b[0;34m.\u001b[0m\u001b[0mrandint\u001b[0m\u001b[0;34m(\u001b[0m\u001b[0mnp\u001b[0m\u001b[0;34m.\u001b[0m\u001b[0miinfo\u001b[0m\u001b[0;34m(\u001b[0m\u001b[0;34m'i'\u001b[0m\u001b[0;34m)\u001b[0m\u001b[0;34m.\u001b[0m\u001b[0mmax\u001b[0m\u001b[0;34m)\u001b[0m\u001b[0;34m\u001b[0m\u001b[0m\n\u001b[0;32m--> 187\u001b[0;31m         \u001b[0mfit\u001b[0m\u001b[0;34m(\u001b[0m\u001b[0mX\u001b[0m\u001b[0;34m,\u001b[0m \u001b[0my\u001b[0m\u001b[0;34m,\u001b[0m \u001b[0msample_weight\u001b[0m\u001b[0;34m,\u001b[0m \u001b[0msolver_type\u001b[0m\u001b[0;34m,\u001b[0m \u001b[0mkernel\u001b[0m\u001b[0;34m,\u001b[0m \u001b[0mrandom_seed\u001b[0m\u001b[0;34m=\u001b[0m\u001b[0mseed\u001b[0m\u001b[0;34m)\u001b[0m\u001b[0;34m\u001b[0m\u001b[0m\n\u001b[0m\u001b[1;32m    188\u001b[0m         \u001b[0;31m# see comment on the other call to np.iinfo in this file\u001b[0m\u001b[0;34m\u001b[0m\u001b[0;34m\u001b[0m\u001b[0m\n\u001b[1;32m    189\u001b[0m \u001b[0;34m\u001b[0m\u001b[0m\n",
      "\u001b[0;32m/home/andy/checkout/scikit-learn/sklearn/svm/base.py\u001b[0m in \u001b[0;36m_dense_fit\u001b[0;34m(self, X, y, sample_weight, solver_type, kernel, random_seed)\u001b[0m\n\u001b[1;32m    252\u001b[0m                 \u001b[0mcache_size\u001b[0m\u001b[0;34m=\u001b[0m\u001b[0mself\u001b[0m\u001b[0;34m.\u001b[0m\u001b[0mcache_size\u001b[0m\u001b[0;34m,\u001b[0m \u001b[0mcoef0\u001b[0m\u001b[0;34m=\u001b[0m\u001b[0mself\u001b[0m\u001b[0;34m.\u001b[0m\u001b[0mcoef0\u001b[0m\u001b[0;34m,\u001b[0m\u001b[0;34m\u001b[0m\u001b[0m\n\u001b[1;32m    253\u001b[0m                 \u001b[0mgamma\u001b[0m\u001b[0;34m=\u001b[0m\u001b[0mself\u001b[0m\u001b[0;34m.\u001b[0m\u001b[0m_gamma\u001b[0m\u001b[0;34m,\u001b[0m \u001b[0mepsilon\u001b[0m\u001b[0;34m=\u001b[0m\u001b[0mself\u001b[0m\u001b[0;34m.\u001b[0m\u001b[0mepsilon\u001b[0m\u001b[0;34m,\u001b[0m\u001b[0;34m\u001b[0m\u001b[0m\n\u001b[0;32m--> 254\u001b[0;31m                 max_iter=self.max_iter, random_seed=random_seed)\n\u001b[0m\u001b[1;32m    255\u001b[0m \u001b[0;34m\u001b[0m\u001b[0m\n\u001b[1;32m    256\u001b[0m         \u001b[0mself\u001b[0m\u001b[0;34m.\u001b[0m\u001b[0m_warn_from_fit_status\u001b[0m\u001b[0;34m(\u001b[0m\u001b[0;34m)\u001b[0m\u001b[0;34m\u001b[0m\u001b[0m\n",
      "\u001b[0;31mKeyboardInterrupt\u001b[0m: "
     ]
    }
   ],
   "source": [
    "svc_param_grid = {'gamma': [0.000001, 0.00001, 0.0001, 0.001, 0.01, 0.1],\n",
    "                  'C': [1, 10, 100, 1000, 10000, 100000]}\n",
    "\n",
    "svc_grid = GridSearchCV(SVC(), svc_param_grid, cv=5, scoring=\"roc_auc\")\n",
    "svc_grid.fit(X_train, y_train)\n",
    "\n",
    "print(\"Best SVC CV: {}\".format(svc_grid.best_score_))\n",
    "print(\"Best SVC Test: {}\".format(svc_grid.score(X_test, y_test)))\n",
    "\n",
    "svc_results = pd.DataFrame(svc_grid.cv_results_)\n",
    "model_set_1_results = pd.concat([model_set_1_results, svc_results])\n",
    "svc_scores = np.array(svc_results.mean_test_score).reshape(6,6)\n",
    "\n",
    "svc_scores_image = mglearn.tools.heatmap(svc_scores, xlabel='gamma', xticklabels=svc_param_grid['gamma'],\n",
    "                                         ylabel='C', yticklabels=svc_param_grid['C'], cmap=\"viridis\")\n",
    "svc_colorbar = plt.colorbar(svc_scores_image)"
   ]
  },
  {
   "cell_type": "code",
   "execution_count": 29,
   "metadata": {
    "collapsed": false,
    "scrolled": true
   },
   "outputs": [
    {
     "name": "stdout",
     "output_type": "stream",
     "text": [
      "Fitting 5 folds for each of 6 candidates, totalling 30 fits\n",
      "[CV] C=0.001 .........................................................\n",
      "[CV] .......................... C=0.001, score=0.763355, total=   0.0s\n",
      "[CV] C=0.01 ..........................................................\n",
      "[CV] ........................... C=0.01, score=0.772500, total=   0.0s\n",
      "[CV] C=0.1 ...........................................................\n",
      "[CV] ............................ C=0.1, score=0.775753, total=   0.0s\n",
      "[CV] C=1 .............................................................\n"
     ]
    },
    {
     "name": "stderr",
     "output_type": "stream",
     "text": [
      "[Parallel(n_jobs=1)]: Done   1 out of   1 | elapsed:    0.0s remaining:    0.0s\n",
      "[Parallel(n_jobs=1)]: Done   2 out of   2 | elapsed:    0.1s remaining:    0.0s\n",
      "[Parallel(n_jobs=1)]: Done   3 out of   3 | elapsed:    0.1s remaining:    0.0s\n"
     ]
    },
    {
     "name": "stdout",
     "output_type": "stream",
     "text": [
      "[CV] .............................. C=1, score=0.774647, total=   0.1s\n",
      "[CV] C=10 ............................................................\n",
      "[CV] ............................. C=10, score=0.774247, total=   0.1s\n",
      "[CV] C=100 ...........................................................\n"
     ]
    },
    {
     "name": "stderr",
     "output_type": "stream",
     "text": [
      "[Parallel(n_jobs=1)]: Done   4 out of   4 | elapsed:    0.3s remaining:    0.0s\n",
      "[Parallel(n_jobs=1)]: Done   5 out of   5 | elapsed:    0.4s remaining:    0.0s\n"
     ]
    },
    {
     "name": "stdout",
     "output_type": "stream",
     "text": [
      "[CV] ............................ C=100, score=0.774155, total=   0.1s\n",
      "[CV] C=0.001 .........................................................\n",
      "[CV] .......................... C=0.001, score=0.781828, total=   0.0s\n",
      "[CV] C=0.01 ..........................................................\n",
      "[CV] ........................... C=0.01, score=0.788833, total=   0.0s\n",
      "[CV] C=0.1 ...........................................................\n",
      "[CV] ............................ C=0.1, score=0.790705, total=   0.0s\n",
      "[CV] C=1 .............................................................\n",
      "[CV] .............................. C=1, score=0.790403, total=   0.1s\n",
      "[CV] C=10 ............................................................\n"
     ]
    },
    {
     "name": "stderr",
     "output_type": "stream",
     "text": [
      "[Parallel(n_jobs=1)]: Done   6 out of   6 | elapsed:    0.5s remaining:    0.0s\n",
      "[Parallel(n_jobs=1)]: Done   7 out of   7 | elapsed:    0.5s remaining:    0.0s\n",
      "[Parallel(n_jobs=1)]: Done   8 out of   8 | elapsed:    0.5s remaining:    0.0s\n",
      "[Parallel(n_jobs=1)]: Done   9 out of   9 | elapsed:    0.6s remaining:    0.0s\n"
     ]
    },
    {
     "name": "stdout",
     "output_type": "stream",
     "text": [
      "[CV] ............................. C=10, score=0.790064, total=   0.1s\n",
      "[CV] C=100 ...........................................................\n",
      "[CV] ............................ C=100, score=0.790042, total=   0.1s\n",
      "[CV] C=0.001 .........................................................\n",
      "[CV] .......................... C=0.001, score=0.791486, total=   0.0s\n",
      "[CV] C=0.01 ..........................................................\n",
      "[CV] ........................... C=0.01, score=0.797030, total=   0.0s\n",
      "[CV] C=0.1 ...........................................................\n",
      "[CV] ............................ C=0.1, score=0.798046, total=   0.0s\n",
      "[CV] C=1 .............................................................\n",
      "[CV] .............................. C=1, score=0.798558, total=   0.1s\n",
      "[CV] C=10 ............................................................\n",
      "[CV] ............................. C=10, score=0.798373, total=   0.1s\n",
      "[CV] C=100 ...........................................................\n",
      "[CV] ............................ C=100, score=0.798369, total=   0.1s\n",
      "[CV] C=0.001 .........................................................\n",
      "[CV] .......................... C=0.001, score=0.782214, total=   0.0s\n",
      "[CV] C=0.01 ..........................................................\n",
      "[CV] ........................... C=0.01, score=0.790694, total=   0.0s\n",
      "[CV] C=0.1 ...........................................................\n",
      "[CV] ............................ C=0.1, score=0.793193, total=   0.1s\n",
      "[CV] C=1 .............................................................\n",
      "[CV] .............................. C=1, score=0.793646, total=   0.2s\n",
      "[CV] C=10 ............................................................\n",
      "[CV] ............................. C=10, score=0.793654, total=   0.1s\n",
      "[CV] C=100 ...........................................................\n",
      "[CV] ............................ C=100, score=0.793663, total=   0.1s\n",
      "[CV] C=0.001 .........................................................\n",
      "[CV] .......................... C=0.001, score=0.756300, total=   0.0s\n",
      "[CV] C=0.01 ..........................................................\n",
      "[CV] ........................... C=0.01, score=0.768211, total=   0.0s\n",
      "[CV] C=0.1 ...........................................................\n",
      "[CV] ............................ C=0.1, score=0.773493, total=   0.1s\n",
      "[CV] C=1 .............................................................\n",
      "[CV] .............................. C=1, score=0.775098, total=   0.1s\n",
      "[CV] C=10 ............................................................\n",
      "[CV] ............................. C=10, score=0.775421, total=   0.1s\n",
      "[CV] C=100 ...........................................................\n",
      "[CV] ............................ C=100, score=0.775445, total=   0.2s\n"
     ]
    },
    {
     "name": "stderr",
     "output_type": "stream",
     "text": [
      "[Parallel(n_jobs=1)]: Done  30 out of  30 | elapsed:    2.2s finished\n"
     ]
    },
    {
     "name": "stdout",
     "output_type": "stream",
     "text": [
      "Best LR CV: 0.7864704\n",
      "Best LR Test: 0.80706112\n"
     ]
    },
    {
     "ename": "TypeError",
     "evalue": "heatmap() missing 2 required positional arguments: 'ylabel' and 'yticklabels'",
     "output_type": "error",
     "traceback": [
      "\u001b[0;31m---------------------------------------------------------------------------\u001b[0m",
      "\u001b[0;31mTypeError\u001b[0m                                 Traceback (most recent call last)",
      "\u001b[0;32m<ipython-input-29-757ffd6e1657>\u001b[0m in \u001b[0;36m<module>\u001b[0;34m()\u001b[0m\n\u001b[1;32m     11\u001b[0m \u001b[0mlr_scores\u001b[0m \u001b[0;34m=\u001b[0m \u001b[0mnp\u001b[0m\u001b[0;34m.\u001b[0m\u001b[0marray\u001b[0m\u001b[0;34m(\u001b[0m\u001b[0mlr_results\u001b[0m\u001b[0;34m.\u001b[0m\u001b[0mmean_test_score\u001b[0m\u001b[0;34m)\u001b[0m\u001b[0;34m.\u001b[0m\u001b[0mreshape\u001b[0m\u001b[0;34m(\u001b[0m\u001b[0;36m6\u001b[0m\u001b[0;34m,\u001b[0m\u001b[0;36m1\u001b[0m\u001b[0;34m)\u001b[0m\u001b[0;34m\u001b[0m\u001b[0m\n\u001b[1;32m     12\u001b[0m \u001b[0;34m\u001b[0m\u001b[0m\n\u001b[0;32m---> 13\u001b[0;31m \u001b[0mlr_scores_image\u001b[0m \u001b[0;34m=\u001b[0m \u001b[0mmglearn\u001b[0m\u001b[0;34m.\u001b[0m\u001b[0mtools\u001b[0m\u001b[0;34m.\u001b[0m\u001b[0mheatmap\u001b[0m\u001b[0;34m(\u001b[0m\u001b[0mlr_scores\u001b[0m\u001b[0;34m,\u001b[0m \u001b[0mxlabel\u001b[0m\u001b[0;34m=\u001b[0m\u001b[0;34m'C'\u001b[0m\u001b[0;34m,\u001b[0m \u001b[0mxticklabels\u001b[0m\u001b[0;34m=\u001b[0m\u001b[0mlr_param_grid\u001b[0m\u001b[0;34m[\u001b[0m\u001b[0;34m'C'\u001b[0m\u001b[0;34m]\u001b[0m\u001b[0;34m,\u001b[0m \u001b[0mcmap\u001b[0m\u001b[0;34m=\u001b[0m\u001b[0;34m\"viridis\"\u001b[0m\u001b[0;34m)\u001b[0m\u001b[0;34m\u001b[0m\u001b[0m\n\u001b[0m\u001b[1;32m     14\u001b[0m \u001b[0mlr_colorbar\u001b[0m \u001b[0;34m=\u001b[0m \u001b[0mplt\u001b[0m\u001b[0;34m.\u001b[0m\u001b[0mcolorbar\u001b[0m\u001b[0;34m(\u001b[0m\u001b[0mlr_scores_image\u001b[0m\u001b[0;34m)\u001b[0m\u001b[0;34m\u001b[0m\u001b[0m\n",
      "\u001b[0;31mTypeError\u001b[0m: heatmap() missing 2 required positional arguments: 'ylabel' and 'yticklabels'"
     ]
    }
   ],
   "source": [
    "lr_param_grid = {'C': [0.001, 0.01, 0.1, 1, 10, 100]}\n",
    "\n",
    "lr_grid = GridSearchCV(LogisticRegression(), lr_param_grid, cv=5, scoring=\"roc_auc\", verbose=10)\n",
    "lr_grid.fit(X_train, y_train)\n",
    "\n",
    "print(\"Best LR CV: {}\".format(lr_grid.best_score_))\n",
    "print(\"Best LR Test: {}\".format(lr_grid.score(X_test, y_test)))\n",
    "\n",
    "lr_results = pd.DataFrame(lr_grid.cv_results_)\n",
    "model_set_1_results = pd.concat([model_set_1_results, lr_results])\n",
    "lr_scores = np.array(lr_results.mean_test_score).reshape(6,1)\n",
    "\n",
    "#lr_scores_image = mglearn.tools.heatmap(lr_scores, xlabel='C', xticklabels=lr_param_grid['C'], cmap=\"viridis\")\n",
    "\n",
    "lr_colorbar = plt.colorbar(lr_scores_image)"
   ]
  },
  {
   "cell_type": "code",
   "execution_count": 31,
   "metadata": {
    "collapsed": false
   },
   "outputs": [
    {
     "data": {
      "text/plain": [
       "array([[ 0.7750366],\n",
       "       [ 0.7834536],\n",
       "       [ 0.786238 ],\n",
       "       [ 0.7864704],\n",
       "       [ 0.7863518],\n",
       "       [ 0.7863348]])"
      ]
     },
     "execution_count": 31,
     "metadata": {},
     "output_type": "execute_result"
    }
   ],
   "source": [
    "lr_scores"
   ]
  },
  {
   "cell_type": "markdown",
   "metadata": {},
   "source": [
    "Let's now take a closer look at which were the best models from ModelSet1."
   ]
  },
  {
   "cell_type": "code",
   "execution_count": null,
   "metadata": {
    "collapsed": true
   },
   "outputs": [],
   "source": [
    "model_set_1_results.sort_values(by='mean_test_score', ascending=False).head()[['mean_test_score', 'params']]"
   ]
  },
  {
   "cell_type": "markdown",
   "metadata": {},
   "source": [
    "So the 5 models that we pick are all SVCs (with the parameters as specified above)."
   ]
  },
  {
   "cell_type": "markdown",
   "metadata": {},
   "source": [
    "# Step3 - ModelSet2 [35 points]\n",
    "\n",
    "In this step, we expect you to perform the following steps relevant to the models you choose for set2:\n",
    "\n",
    "* feature engineering\n",
    "* validation\n",
    "* feature selection\n",
    "* final model selection\n",
    "\n",
    "You may select up to 5 models in this step for the purpose of final ensemble. We encourage you to try decition tree, random forest and gradient boosted tree methods here and pick the one which you think works best."
   ]
  },
  {
   "cell_type": "code",
   "execution_count": 147,
   "metadata": {
    "collapsed": true
   },
   "outputs": [],
   "source": [
    "# model_set_2_results = pd.DataFrame()"
   ]
  },
  {
   "cell_type": "code",
   "execution_count": 148,
   "metadata": {
    "collapsed": false
   },
   "outputs": [],
   "source": [
    "# gb_param_grid = {'n_estimators': [100],\n",
    "#      'learning_rate': [0.001, 0.01, 0.1, 1, 10, 100]}\n",
    "\n",
    "# gb_grid = GridSearchCV(GradientBoostingClassifier(), gb_param_grid, cv=10, scoring=\"roc_auc\")\n",
    "# gb_grid.fit(X_train, y_train)\n",
    "\n",
    "# print(\"Best GB CV: {}\".format(gb_grid.best_score_))\n",
    "# print(\"Best GB Test: {}\".format(gb_grid.score(X_test, y_test)))\n",
    "\n",
    "# gb_results = pd.DataFrame(gb_grid.cv_results_)\n",
    "# model_set_2_results = pd.concat([model_set_2_results, gb_results])\n",
    "# gb_scores = np.array(gb_results.mean_test_score).reshape(6,1)\n",
    "\n",
    "# gb_scores_image = mglearn.tools.heatmap(gb_scores, xlabel='n_estimators', xticklabels=gb_param_grid['n_estimators'],\n",
    "#                           ylabel='learning_rate', yticklabels=gb_param_grid['learning_rate'], cmap=\"viridis\")\n",
    "# gb_colorbar = plt.colorbar(gb_scores_image)"
   ]
  },
  {
   "cell_type": "code",
   "execution_count": 34,
   "metadata": {
    "collapsed": false
   },
   "outputs": [],
   "source": [
    "# gb_param_grid = {'n_estimators': [100],\n",
    "#      'learning_rate': [0.1, 0.25, 0.5, 0.75, 1]}\n",
    "\n",
    "# gb_grid = GridSearchCV(GradientBoostingClassifier(), gb_param_grid, cv=10, scoring=\"roc_auc\")\n",
    "# gb_grid.fit(X_train, y_train)\n",
    "\n",
    "# print(\"Best GB CV: {}\".format(gb_grid.best_score_))\n",
    "# print(\"Best GB Test: {}\".format(gb_grid.score(X_test, y_test)))\n",
    "\n",
    "# gb_results = pd.DataFrame(gb_grid.cv_results_)\n",
    "# model_set_2_results = pd.concat([model_set_2_results, gb_results])\n",
    "# gb_scores = np.array(gb_results.mean_test_score).reshape(len(gb_param_grid['learning_rate']),1)\n",
    "\n",
    "# gb_scores_image = mglearn.tools.heatmap(gb_scores, xlabel='n_estimators', xticklabels=gb_param_grid['n_estimators'],\n",
    "#                           ylabel='learning_rate', yticklabels=gb_param_grid['learning_rate'], cmap=\"viridis\")\n",
    "# gb_colorbar = plt.colorbar(gb_scores_image)"
   ]
  },
  {
   "cell_type": "code",
   "execution_count": null,
   "metadata": {
    "collapsed": true
   },
   "outputs": [],
   "source": [
    "# gb_param_grid = {'n_estimators': [100],\n",
    "#      'learning_rate': [0.5, 0.6, 0.7, 0.8, 0.9, 1]}\n",
    "\n",
    "# gb_grid = GridSearchCV(GradientBoostingClassifier(), gb_param_grid, cv=10, scoring=\"roc_auc\")\n",
    "# gb_grid.fit(X_train, y_train)\n",
    "\n",
    "# print(\"Best GB CV: {}\".format(gb_grid.best_score_))\n",
    "# print(\"Best GB Test: {}\".format(gb_grid.score(X_test, y_test)))\n",
    "\n",
    "# gb_results = pd.DataFrame(gb_grid.cv_results_)\n",
    "# model_set_2_results = pd.concat([model_set_2_results, gb_results])\n",
    "# gb_scores = np.array(gb_results.mean_test_score).reshape(len(gb_param_grid['learning_rate']),1)\n",
    "\n",
    "# gb_scores_image = mglearn.tools.heatmap(gb_scores, xlabel='n_estimators', xticklabels=gb_param_grid['n_estimators'],\n",
    "#                           ylabel='learning_rate', yticklabels=gb_param_grid['learning_rate'], cmap=\"viridis\")\n",
    "# gb_colorbar = plt.colorbar(gb_scores_image)"
   ]
  },
  {
   "cell_type": "code",
   "execution_count": null,
   "metadata": {
    "collapsed": true
   },
   "outputs": [],
   "source": [
    "# gb_param_grid = {'n_estimators': [100],\n",
    "#      'learning_rate': [0.45, 0.475, 0.5, 0.525, 0.55, 0.575]}\n",
    "\n",
    "# gb_grid = GridSearchCV(GradientBoostingClassifier(), gb_param_grid, cv=10, scoring=\"roc_auc\")\n",
    "# gb_grid.fit(X_train, y_train)\n",
    "\n",
    "# print(\"Best GB CV: {}\".format(gb_grid.best_score_))\n",
    "# print(\"Best GB Test: {}\".format(gb_grid.score(X_test, y_test)))\n",
    "\n",
    "# gb_results = pd.DataFrame(gb_grid.cv_results_)\n",
    "# model_set_2_results = pd.concat([model_set_2_results, gb_results])\n",
    "# gb_scores = np.array(gb_results.mean_test_score).reshape(len(gb_param_grid['learning_rate']),1)\n",
    "\n",
    "# gb_scores_image = mglearn.tools.heatmap(gb_scores, xlabel='n_estimators', xticklabels=gb_param_grid['n_estimators'],\n",
    "#                           ylabel='learning_rate', yticklabels=gb_param_grid['learning_rate'], cmap=\"viridis\")\n",
    "# gb_colorbar = plt.colorbar(gb_scores_image)"
   ]
  },
  {
   "cell_type": "code",
   "execution_count": 35,
   "metadata": {
    "collapsed": true
   },
   "outputs": [],
   "source": [
    "# rf_param_grid = {'n_estimators': [1000],\n",
    "#      'max_features': np.linspace(2,8, 5)/64} # here, i follow the recommendation from APM\n",
    "\n",
    "# rf_grid = GridSearchCV(RandomForestClassifier(), rf_param_grid, cv=10, scoring=\"roc_auc\")\n",
    "# rf_grid.fit(X_train, y_train)\n",
    "\n",
    "# # joblib.dump(rf_grid, 'rf_grid.pkl')\n",
    "\n",
    "# # rf_grid = joblib.load('rf_grid.pkl')\n",
    "\n",
    "# print(\"Best RF CV: {}\".format(rf_grid.best_score_))\n",
    "# print(\"Best RF Test: {}\".format(rf_grid.score(X_test, y_test)))\n",
    "\n",
    "# rf_results = pd.DataFrame(rf_grid.cv_results_)\n",
    "# model_set_2_results = pd.concat([model_set_2_results, rf_results])\n",
    "# rf_scores = np.array(rf_results.mean_test_score).reshape(5,1)\n",
    "\n",
    "# rf_scores_image = mglearn.tools.heatmap(rf_scores, xlabel='n_estimators', xticklabels=rf_param_grid['n_estimators'],\n",
    "#                           ylabel='max_features', yticklabels=rf_param_grid['max_features'], cmap=\"viridis\")\n",
    "# rf_colorbar = plt.colorbar(rf_scores_image)"
   ]
  },
  {
   "cell_type": "code",
   "execution_count": 36,
   "metadata": {
    "collapsed": false
   },
   "outputs": [],
   "source": [
    "# model_set_2_results.sort_values(by='mean_test_score', ascending=False).head()[['mean_test_score', 'params']]"
   ]
  },
  {
   "cell_type": "markdown",
   "metadata": {},
   "source": [
    "So the 5 models that we pick are all GradientBoostingClassifiers, with the parameters as specified above). Let's see the learning rates more in detail, though."
   ]
  },
  {
   "cell_type": "code",
   "execution_count": 37,
   "metadata": {
    "collapsed": false
   },
   "outputs": [],
   "source": [
    "# for my_dict in model_set_2_results.sort_values(by='mean_test_score', ascending=False).head()[['mean_test_score', 'params']]['params']:\n",
    "#     print(\"learning_rate: {:.6f}\".format(my_dict['learning_rate']))"
   ]
  },
  {
   "cell_type": "markdown",
   "metadata": {},
   "source": [
    "# Step4 - Ensemble [20 points + 10 Bonus points]\n",
    "\n",
    "In this step, we expect you to use the models created before and create new predictions. You should definitely try poor man's stacking but we encourage you to think of different ensemble techniques as well. We will judge your creativity and improvement in model performance using ensemble models and you can potentially earn 10 bonus points here."
   ]
  },
  {
   "cell_type": "code",
   "execution_count": 166,
   "metadata": {
    "collapsed": false
   },
   "outputs": [],
   "source": [
    "voting = VotingClassifier([\n",
    "#                            ('ms1_1', SVC(C=100, gamma=0.001, probability=True)),\n",
    "#                            ('ms1_2', SVC(C=100000, gamma=0.000001, probability=True)),\n",
    "#                            ('ms1_3', SVC(C=10000, gamma=0.0001, probability=True)),\n",
    "#                            ('ms1_4', SVC(C=10, gamma=0.01, probability=True)),\n",
    "#                            ('ms1_5', SVC(C=100, gamma=0.00001, probability=True)),\n",
    "                           ('ms2_1', GradientBoostingClassifier(n_estimators=100, learning_rate=0.525)),\n",
    "                           ('ms2_2', GradientBoostingClassifier(n_estimators=100, learning_rate=0.5)),\n",
    "                           ('ms2_3', GradientBoostingClassifier(n_estimators=100, learning_rate=0.575)),\n",
    "                           ('ms2_4', GradientBoostingClassifier(n_estimators=100, learning_rate=0.52)),\n",
    "                           ('ms2_5', GradientBoostingClassifier(n_estimators=100, learning_rate=0.51))\n",
    "                          ],\n",
    "                         voting='soft')\n",
    "\n",
    "num_of_estimators = len(voting.named_estimators.keys())\n",
    "reshaper = FunctionTransformer(lambda X_: np.rollaxis(X_, 1).reshape(-1,num_of_estimators*2)[:, 1::2],\n",
    "                               validate=False)"
   ]
  },
  {
   "cell_type": "code",
   "execution_count": 167,
   "metadata": {
    "collapsed": false
   },
   "outputs": [
    {
     "name": "stdout",
     "output_type": "stream",
     "text": [
      "Stacking CV ROC_AUC: 0.836304542121\n"
     ]
    }
   ],
   "source": [
    "first_stage = make_pipeline(voting, reshaper)\n",
    "transform_cv = cross_val_predict(first_stage, X_train, y_train, cv=3, method=\"transform\")\n",
    "second_stage = LogisticRegression(C=100).fit(transform_cv, y_train)\n",
    "\n",
    "cv_probs = second_stage.predict_proba(transform_cv)[:,1]\n",
    "print(\"Stacking CV ROC_AUC: {}\".format(\n",
    "        metrics.roc_auc_score(y_train, cv_probs)))"
   ]
  },
  {
   "cell_type": "code",
   "execution_count": 168,
   "metadata": {
    "collapsed": false
   },
   "outputs": [
    {
     "name": "stdout",
     "output_type": "stream",
     "text": [
      "Stacking Test ROC_AUC: 0.769582586443\n"
     ]
    }
   ],
   "source": [
    "stacking = make_pipeline(first_stage, second_stage)\n",
    "stacking.fit(X_train, y_train)\n",
    "test_probs = stacking.predict_proba(X_test)[:,1]\n",
    "print(\"Stacking Test ROC_AUC: {}\".format(\n",
    "        metrics.roc_auc_score(y_test, test_probs)))"
   ]
  },
  {
   "cell_type": "code",
   "execution_count": 169,
   "metadata": {
    "collapsed": false
   },
   "outputs": [],
   "source": [
    "#write code below, you can make multiple cells\n",
    "assert metrics.roc_auc_score(y_train, cv_probs) > 0.65"
   ]
  },
  {
   "cell_type": "code",
   "execution_count": 170,
   "metadata": {
    "collapsed": false
   },
   "outputs": [],
   "source": [
    "# def write_submission_csv(csv_name):\n",
    "#     h_probs = stacking.predict_proba(h_data[:,1:])[:,1]\n",
    "#     h_submission_arr = np.hstack([h_data[:,0].reshape(h_data.shape[0], 1), \n",
    "#                                   h_probs.reshape(h_data.shape[0], 1)])\n",
    "#     pd.DataFrame(h_submission_arr, columns=['ID', 'subscribed']).to_csv(csv_name, index=False)\n",
    "    \n",
    "# write_submission_csv('big_hopeful_submission.csv')"
   ]
  }
 ],
 "metadata": {
  "anaconda-cloud": {},
  "kernelspec": {
   "display_name": "Python [conda root]",
   "language": "python",
   "name": "conda-root-py"
  },
  "language_info": {
   "codemirror_mode": {
    "name": "ipython",
    "version": 3
   },
   "file_extension": ".py",
   "mimetype": "text/x-python",
   "name": "python",
   "nbconvert_exporter": "python",
   "pygments_lexer": "ipython3",
   "version": "3.5.2"
  }
 },
 "nbformat": 4,
 "nbformat_minor": 2
}
